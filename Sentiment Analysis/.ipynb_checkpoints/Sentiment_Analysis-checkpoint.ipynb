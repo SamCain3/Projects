{
 "cells": [
  {
   "cell_type": "code",
   "execution_count": 60,
   "metadata": {},
   "outputs": [],
   "source": [
    "# Import required libraries and dependencies\n",
    "import re\n",
    "import matplotlib.pyplot as plt\n",
    "import string\n",
    "from nltk.corpus import stopwords\n",
    "import nltk\n",
    "from nltk.corpus import wordnet\n",
    "from nltk.stem import WordNetLemmatizer\n",
    "from nltk.tokenize.treebank import TreebankWordDetokenizer\n",
    "from collections import Counter\n",
    "from wordcloud import WordCloud\n",
    "from nltk.corpus import stopwords\n",
    "import nltk\n",
    "from gensim.utils import simple_preprocess\n",
    "from nltk.corpus import stopwords\n",
    "import gensim\n",
    "from sklearn.model_selection import train_test_split\n",
    "import spacy\n",
    "import pickle\n",
    "import warnings\n",
    "warnings.filterwarnings('ignore')\n",
    "import seaborn as sns\n",
    "from sklearn.metrics import confusion_matrix\n",
    "import matplotlib.pyplot as plt \n",
    "import tensorflow as tf\n",
    "import keras\n",
    "import numpy as np\n",
    "import pandas as pdequences\n",
    "from keras.models import Sequential\n",
    "from keras import layers\n",
    "from keras.optimizers import RMSprop,Adam\n",
    "from keras.preprocessing.text import Tokenizer\n",
    "from keras import regularizers\n",
    "from keras import backend as K\n",
    "from keras.callbacks import ModelCheckpoint\n",
    "from keras import regularizers\n",
    "import seaborn as sns"
   ]
  },
  {
   "cell_type": "code",
   "execution_count": 61,
   "metadata": {},
   "outputs": [],
   "source": [
    "train = pd.read_csv('Resources/data.csv', sep=',')"
   ]
  },
  {
   "cell_type": "code",
   "execution_count": 62,
   "metadata": {},
   "outputs": [
    {
     "data": {
      "text/html": [
       "<div>\n",
       "<style scoped>\n",
       "    .dataframe tbody tr th:only-of-type {\n",
       "        vertical-align: middle;\n",
       "    }\n",
       "\n",
       "    .dataframe tbody tr th {\n",
       "        vertical-align: top;\n",
       "    }\n",
       "\n",
       "    .dataframe thead th {\n",
       "        text-align: right;\n",
       "    }\n",
       "</style>\n",
       "<table border=\"1\" class=\"dataframe\">\n",
       "  <thead>\n",
       "    <tr style=\"text-align: right;\">\n",
       "      <th></th>\n",
       "      <th>textID</th>\n",
       "      <th>text</th>\n",
       "      <th>selected_text</th>\n",
       "      <th>sentiment</th>\n",
       "    </tr>\n",
       "  </thead>\n",
       "  <tbody>\n",
       "    <tr>\n",
       "      <th>0</th>\n",
       "      <td>cb774db0d1</td>\n",
       "      <td>I`d have responded, if I were going</td>\n",
       "      <td>I`d have responded, if I were going</td>\n",
       "      <td>neutral</td>\n",
       "    </tr>\n",
       "    <tr>\n",
       "      <th>1</th>\n",
       "      <td>549e992a42</td>\n",
       "      <td>Sooo SAD I will miss you here in San Diego!!!</td>\n",
       "      <td>Sooo SAD</td>\n",
       "      <td>negative</td>\n",
       "    </tr>\n",
       "    <tr>\n",
       "      <th>2</th>\n",
       "      <td>088c60f138</td>\n",
       "      <td>my boss is bullying me...</td>\n",
       "      <td>bullying me</td>\n",
       "      <td>negative</td>\n",
       "    </tr>\n",
       "    <tr>\n",
       "      <th>3</th>\n",
       "      <td>9642c003ef</td>\n",
       "      <td>what interview! leave me alone</td>\n",
       "      <td>leave me alone</td>\n",
       "      <td>negative</td>\n",
       "    </tr>\n",
       "    <tr>\n",
       "      <th>4</th>\n",
       "      <td>358bd9e861</td>\n",
       "      <td>Sons of ****, why couldn`t they put them on t...</td>\n",
       "      <td>Sons of ****,</td>\n",
       "      <td>negative</td>\n",
       "    </tr>\n",
       "    <tr>\n",
       "      <th>5</th>\n",
       "      <td>28b57f3990</td>\n",
       "      <td>http://www.dothebouncy.com/smf - some shameles...</td>\n",
       "      <td>http://www.dothebouncy.com/smf - some shameles...</td>\n",
       "      <td>neutral</td>\n",
       "    </tr>\n",
       "    <tr>\n",
       "      <th>6</th>\n",
       "      <td>6e0c6d75b1</td>\n",
       "      <td>2am feedings for the baby are fun when he is a...</td>\n",
       "      <td>fun</td>\n",
       "      <td>positive</td>\n",
       "    </tr>\n",
       "    <tr>\n",
       "      <th>7</th>\n",
       "      <td>50e14c0bb8</td>\n",
       "      <td>Soooo high</td>\n",
       "      <td>Soooo high</td>\n",
       "      <td>neutral</td>\n",
       "    </tr>\n",
       "    <tr>\n",
       "      <th>8</th>\n",
       "      <td>e050245fbd</td>\n",
       "      <td>Both of you</td>\n",
       "      <td>Both of you</td>\n",
       "      <td>neutral</td>\n",
       "    </tr>\n",
       "    <tr>\n",
       "      <th>9</th>\n",
       "      <td>fc2cbefa9d</td>\n",
       "      <td>Journey!? Wow... u just became cooler.  hehe....</td>\n",
       "      <td>Wow... u just became cooler.</td>\n",
       "      <td>positive</td>\n",
       "    </tr>\n",
       "    <tr>\n",
       "      <th>10</th>\n",
       "      <td>2339a9b08b</td>\n",
       "      <td>as much as i love to be hopeful, i reckon the...</td>\n",
       "      <td>as much as i love to be hopeful, i reckon the ...</td>\n",
       "      <td>neutral</td>\n",
       "    </tr>\n",
       "    <tr>\n",
       "      <th>11</th>\n",
       "      <td>16fab9f95b</td>\n",
       "      <td>I really really like the song Love Story by Ta...</td>\n",
       "      <td>like</td>\n",
       "      <td>positive</td>\n",
       "    </tr>\n",
       "    <tr>\n",
       "      <th>12</th>\n",
       "      <td>74a76f6e0a</td>\n",
       "      <td>My Sharpie is running DANGERously low on ink</td>\n",
       "      <td>DANGERously</td>\n",
       "      <td>negative</td>\n",
       "    </tr>\n",
       "    <tr>\n",
       "      <th>13</th>\n",
       "      <td>04dd1d2e34</td>\n",
       "      <td>i want to go to music tonight but i lost my vo...</td>\n",
       "      <td>lost</td>\n",
       "      <td>negative</td>\n",
       "    </tr>\n",
       "    <tr>\n",
       "      <th>14</th>\n",
       "      <td>bbe3cbf620</td>\n",
       "      <td>test test from the LG enV2</td>\n",
       "      <td>test test from the LG enV2</td>\n",
       "      <td>neutral</td>\n",
       "    </tr>\n",
       "  </tbody>\n",
       "</table>\n",
       "</div>"
      ],
      "text/plain": [
       "        textID                                               text  \\\n",
       "0   cb774db0d1                I`d have responded, if I were going   \n",
       "1   549e992a42      Sooo SAD I will miss you here in San Diego!!!   \n",
       "2   088c60f138                          my boss is bullying me...   \n",
       "3   9642c003ef                     what interview! leave me alone   \n",
       "4   358bd9e861   Sons of ****, why couldn`t they put them on t...   \n",
       "5   28b57f3990  http://www.dothebouncy.com/smf - some shameles...   \n",
       "6   6e0c6d75b1  2am feedings for the baby are fun when he is a...   \n",
       "7   50e14c0bb8                                         Soooo high   \n",
       "8   e050245fbd                                        Both of you   \n",
       "9   fc2cbefa9d   Journey!? Wow... u just became cooler.  hehe....   \n",
       "10  2339a9b08b   as much as i love to be hopeful, i reckon the...   \n",
       "11  16fab9f95b  I really really like the song Love Story by Ta...   \n",
       "12  74a76f6e0a       My Sharpie is running DANGERously low on ink   \n",
       "13  04dd1d2e34  i want to go to music tonight but i lost my vo...   \n",
       "14  bbe3cbf620                         test test from the LG enV2   \n",
       "\n",
       "                                        selected_text sentiment  \n",
       "0                 I`d have responded, if I were going   neutral  \n",
       "1                                            Sooo SAD  negative  \n",
       "2                                         bullying me  negative  \n",
       "3                                      leave me alone  negative  \n",
       "4                                       Sons of ****,  negative  \n",
       "5   http://www.dothebouncy.com/smf - some shameles...   neutral  \n",
       "6                                                 fun  positive  \n",
       "7                                          Soooo high   neutral  \n",
       "8                                         Both of you   neutral  \n",
       "9                        Wow... u just became cooler.  positive  \n",
       "10  as much as i love to be hopeful, i reckon the ...   neutral  \n",
       "11                                               like  positive  \n",
       "12                                        DANGERously  negative  \n",
       "13                                               lost  negative  \n",
       "14                         test test from the LG enV2   neutral  "
      ]
     },
     "execution_count": 62,
     "metadata": {},
     "output_type": "execute_result"
    }
   ],
   "source": [
    "train.head(15)"
   ]
  },
  {
   "cell_type": "code",
   "execution_count": 63,
   "metadata": {},
   "outputs": [
    {
     "data": {
      "text/plain": [
       "27481"
      ]
     },
     "execution_count": 63,
     "metadata": {},
     "output_type": "execute_result"
    }
   ],
   "source": [
    "len(train)"
   ]
  },
  {
   "cell_type": "code",
   "execution_count": 64,
   "metadata": {},
   "outputs": [
    {
     "data": {
      "text/plain": [
       "array(['neutral', 'negative', 'positive'], dtype=object)"
      ]
     },
     "execution_count": 64,
     "metadata": {},
     "output_type": "execute_result"
    }
   ],
   "source": [
    "train['sentiment'].unique()"
   ]
  },
  {
   "cell_type": "code",
   "execution_count": 65,
   "metadata": {},
   "outputs": [
    {
     "data": {
      "text/html": [
       "<div>\n",
       "<style scoped>\n",
       "    .dataframe tbody tr th:only-of-type {\n",
       "        vertical-align: middle;\n",
       "    }\n",
       "\n",
       "    .dataframe tbody tr th {\n",
       "        vertical-align: top;\n",
       "    }\n",
       "\n",
       "    .dataframe thead th {\n",
       "        text-align: right;\n",
       "    }\n",
       "</style>\n",
       "<table border=\"1\" class=\"dataframe\">\n",
       "  <thead>\n",
       "    <tr style=\"text-align: right;\">\n",
       "      <th></th>\n",
       "      <th>textID</th>\n",
       "      <th>text</th>\n",
       "      <th>selected_text</th>\n",
       "    </tr>\n",
       "    <tr>\n",
       "      <th>sentiment</th>\n",
       "      <th></th>\n",
       "      <th></th>\n",
       "      <th></th>\n",
       "    </tr>\n",
       "  </thead>\n",
       "  <tbody>\n",
       "    <tr>\n",
       "      <th>negative</th>\n",
       "      <td>7781</td>\n",
       "      <td>7781</td>\n",
       "      <td>5861</td>\n",
       "    </tr>\n",
       "    <tr>\n",
       "      <th>neutral</th>\n",
       "      <td>11118</td>\n",
       "      <td>11117</td>\n",
       "      <td>11111</td>\n",
       "    </tr>\n",
       "    <tr>\n",
       "      <th>positive</th>\n",
       "      <td>8582</td>\n",
       "      <td>8582</td>\n",
       "      <td>5537</td>\n",
       "    </tr>\n",
       "  </tbody>\n",
       "</table>\n",
       "</div>"
      ],
      "text/plain": [
       "           textID   text  selected_text\n",
       "sentiment                              \n",
       "negative     7781   7781           5861\n",
       "neutral     11118  11117          11111\n",
       "positive     8582   8582           5537"
      ]
     },
     "execution_count": 65,
     "metadata": {},
     "output_type": "execute_result"
    }
   ],
   "source": [
    "train.groupby('sentiment').nunique()"
   ]
  },
  {
   "cell_type": "code",
   "execution_count": 66,
   "metadata": {},
   "outputs": [
    {
     "data": {
      "text/html": [
       "<div>\n",
       "<style scoped>\n",
       "    .dataframe tbody tr th:only-of-type {\n",
       "        vertical-align: middle;\n",
       "    }\n",
       "\n",
       "    .dataframe tbody tr th {\n",
       "        vertical-align: top;\n",
       "    }\n",
       "\n",
       "    .dataframe thead th {\n",
       "        text-align: right;\n",
       "    }\n",
       "</style>\n",
       "<table border=\"1\" class=\"dataframe\">\n",
       "  <thead>\n",
       "    <tr style=\"text-align: right;\">\n",
       "      <th></th>\n",
       "      <th>selected_text</th>\n",
       "      <th>sentiment</th>\n",
       "    </tr>\n",
       "  </thead>\n",
       "  <tbody>\n",
       "    <tr>\n",
       "      <th>0</th>\n",
       "      <td>I`d have responded, if I were going</td>\n",
       "      <td>neutral</td>\n",
       "    </tr>\n",
       "    <tr>\n",
       "      <th>1</th>\n",
       "      <td>Sooo SAD</td>\n",
       "      <td>negative</td>\n",
       "    </tr>\n",
       "    <tr>\n",
       "      <th>2</th>\n",
       "      <td>bullying me</td>\n",
       "      <td>negative</td>\n",
       "    </tr>\n",
       "    <tr>\n",
       "      <th>3</th>\n",
       "      <td>leave me alone</td>\n",
       "      <td>negative</td>\n",
       "    </tr>\n",
       "    <tr>\n",
       "      <th>4</th>\n",
       "      <td>Sons of ****,</td>\n",
       "      <td>negative</td>\n",
       "    </tr>\n",
       "  </tbody>\n",
       "</table>\n",
       "</div>"
      ],
      "text/plain": [
       "                         selected_text sentiment\n",
       "0  I`d have responded, if I were going   neutral\n",
       "1                             Sooo SAD  negative\n",
       "2                          bullying me  negative\n",
       "3                       leave me alone  negative\n",
       "4                        Sons of ****,  negative"
      ]
     },
     "execution_count": 66,
     "metadata": {},
     "output_type": "execute_result"
    }
   ],
   "source": [
    "train = train[['selected_text','sentiment']]\n",
    "train.head()"
   ]
  },
  {
   "cell_type": "code",
   "execution_count": 67,
   "metadata": {},
   "outputs": [
    {
     "data": {
      "text/plain": [
       "1"
      ]
     },
     "execution_count": 67,
     "metadata": {},
     "output_type": "execute_result"
    }
   ],
   "source": [
    "train[\"selected_text\"].isnull().sum()"
   ]
  },
  {
   "cell_type": "code",
   "execution_count": 68,
   "metadata": {},
   "outputs": [],
   "source": [
    "train[\"selected_text\"].fillna(\"No content\", inplace = True)"
   ]
  },
  {
   "cell_type": "code",
   "execution_count": 69,
   "metadata": {},
   "outputs": [],
   "source": [
    "def depure_data(data):\n",
    "    \n",
    "    #Removing URLs with a regular expression\n",
    "    url_pattern = re.compile(r'https?://\\S+|www\\.\\S+')\n",
    "    data = url_pattern.sub(r'', data)\n",
    "\n",
    "    # Remove Emails\n",
    "    data = re.sub('\\S*@\\S*\\s?', '', data)\n",
    "\n",
    "    # Remove new line characters\n",
    "    data = re.sub('\\s+', ' ', data)\n",
    "\n",
    "    # Remove distracting single quotes\n",
    "    data = re.sub(\"\\'\", \"\", data)\n",
    "        \n",
    "    return data"
   ]
  },
  {
   "cell_type": "code",
   "execution_count": 70,
   "metadata": {},
   "outputs": [
    {
     "data": {
      "text/plain": [
       "['I`d have responded, if I were going',\n",
       " 'Sooo SAD',\n",
       " 'bullying me',\n",
       " 'leave me alone',\n",
       " 'Sons of ****,']"
      ]
     },
     "execution_count": 70,
     "metadata": {},
     "output_type": "execute_result"
    }
   ],
   "source": [
    "temp = []\n",
    "data_to_list = train['selected_text'].values.tolist()\n",
    "for i in range(len(data_to_list)):\n",
    "    temp.append(depure_data(data_to_list[i]))\n",
    "list(temp[:5])"
   ]
  },
  {
   "cell_type": "code",
   "execution_count": 71,
   "metadata": {},
   "outputs": [
    {
     "name": "stdout",
     "output_type": "stream",
     "text": [
      "[['have', 'responded', 'if', 'were', 'going'], ['sooo', 'sad'], ['bullying', 'me'], ['leave', 'me', 'alone'], ['sons', 'of'], ['some', 'shameless', 'plugging', 'for', 'the', 'best', 'rangers', 'forum', 'on', 'earth'], ['fun'], ['soooo', 'high'], ['both', 'of', 'you'], ['wow', 'just', 'became', 'cooler']]\n"
     ]
    }
   ],
   "source": [
    "def sent_to_words(sentences):\n",
    "    for sentence in sentences:\n",
    "        yield(gensim.utils.simple_preprocess(str(sentence), deacc=True))  # deacc=True removes punctuations\n",
    "        \n",
    "\n",
    "data_words = list(sent_to_words(temp))\n",
    "\n",
    "print(data_words[:10])"
   ]
  },
  {
   "cell_type": "code",
   "execution_count": 72,
   "metadata": {},
   "outputs": [
    {
     "data": {
      "text/plain": [
       "27481"
      ]
     },
     "execution_count": 72,
     "metadata": {},
     "output_type": "execute_result"
    }
   ],
   "source": [
    "len(data_words)"
   ]
  },
  {
   "cell_type": "code",
   "execution_count": 73,
   "metadata": {},
   "outputs": [],
   "source": [
    "def detokenize(text):\n",
    "    return TreebankWordDetokenizer().detokenize(text)"
   ]
  },
  {
   "cell_type": "code",
   "execution_count": 74,
   "metadata": {},
   "outputs": [
    {
     "name": "stdout",
     "output_type": "stream",
     "text": [
      "['have responded if were going', 'sooo sad', 'bullying me', 'leave me alone', 'sons of']\n"
     ]
    }
   ],
   "source": [
    "data = []\n",
    "for i in range(len(data_words)):\n",
    "    data.append(detokenize(data_words[i]))\n",
    "print(data[:5])"
   ]
  },
  {
   "cell_type": "code",
   "execution_count": 75,
   "metadata": {},
   "outputs": [],
   "source": [
    "data = np.array(data)"
   ]
  },
  {
   "cell_type": "code",
   "execution_count": 76,
   "metadata": {},
   "outputs": [],
   "source": [
    "labels = np.array(train['sentiment'])\n",
    "y = []\n",
    "for i in range(len(labels)):\n",
    "    if labels[i] == 'neutral':\n",
    "        y.append(0)\n",
    "    if labels[i] == 'negative':\n",
    "        y.append(1)\n",
    "    if labels[i] == 'positive':\n",
    "        y.append(2)\n",
    "y = np.array(y)\n",
    "labels = tf.keras.utils.to_categorical(y, 3, dtype=\"float32\")\n",
    "del y"
   ]
  },
  {
   "cell_type": "code",
   "execution_count": 77,
   "metadata": {},
   "outputs": [
    {
     "data": {
      "text/plain": [
       "27481"
      ]
     },
     "execution_count": 77,
     "metadata": {},
     "output_type": "execute_result"
    }
   ],
   "source": [
    "len(labels)"
   ]
  },
  {
   "cell_type": "code",
   "execution_count": 78,
   "metadata": {},
   "outputs": [
    {
     "name": "stdout",
     "output_type": "stream",
     "text": [
      "[[   0    0    0 ...   68  146   41]\n",
      " [   0    0    0 ...    0  397   65]\n",
      " [   0    0    0 ...    0    0   11]\n",
      " ...\n",
      " [   0    0    0 ...  372   10    3]\n",
      " [   0    0    0 ...   24  542    4]\n",
      " [   0    0    0 ... 2424  199  657]]\n"
     ]
    }
   ],
   "source": [
    "max_words = 5000\n",
    "max_len = 200\n",
    "\n",
    "tokenizer = Tokenizer(num_words=max_words)\n",
    "tokenizer.fit_on_texts(data)\n",
    "sequences = tokenizer.texts_to_sequences(data)\n",
    "tweets = pad_sequences(sequences, maxlen=max_len)\n",
    "print(tweets)"
   ]
  },
  {
   "cell_type": "code",
   "execution_count": 79,
   "metadata": {},
   "outputs": [
    {
     "name": "stdout",
     "output_type": "stream",
     "text": [
      "[[1. 0. 0.]\n",
      " [0. 1. 0.]\n",
      " [0. 1. 0.]\n",
      " ...\n",
      " [0. 0. 1.]\n",
      " [0. 0. 1.]\n",
      " [1. 0. 0.]]\n"
     ]
    }
   ],
   "source": [
    "print(labels)"
   ]
  },
  {
   "cell_type": "code",
   "execution_count": 80,
   "metadata": {},
   "outputs": [
    {
     "name": "stdout",
     "output_type": "stream",
     "text": [
      "20610 6871 20610 6871\n"
     ]
    }
   ],
   "source": [
    "X_train, X_test, y_train, y_test = train_test_split(tweets,labels, random_state=0)\n",
    "print (len(X_train),len(X_test),len(y_train),len(y_test))"
   ]
  },
  {
   "cell_type": "code",
   "execution_count": 81,
   "metadata": {},
   "outputs": [
    {
     "name": "stdout",
     "output_type": "stream",
     "text": [
      "WARNING:tensorflow:`period` argument is deprecated. Please use `save_freq` to specify the frequency in number of batches seen.\n",
      "Epoch 1/5\n",
      "643/645 [============================>.] - ETA: 0s - loss: 0.8081 - accuracy: 0.6591\n",
      "Epoch 1: val_accuracy improved from -inf to 0.74152, saving model to best_model0.hdf5\n",
      "645/645 [==============================] - 18s 27ms/step - loss: 0.8079 - accuracy: 0.6592 - val_loss: 0.6660 - val_accuracy: 0.7415\n",
      "Epoch 2/5\n",
      "645/645 [==============================] - ETA: 0s - loss: 0.5784 - accuracy: 0.7832\n",
      "Epoch 2: val_accuracy improved from 0.74152 to 0.77296, saving model to best_model0.hdf5\n",
      "645/645 [==============================] - 17s 26ms/step - loss: 0.5784 - accuracy: 0.7832 - val_loss: 0.5735 - val_accuracy: 0.7730\n",
      "Epoch 3/5\n",
      "644/645 [============================>.] - ETA: 0s - loss: 0.4937 - accuracy: 0.8109\n",
      "Epoch 3: val_accuracy improved from 0.77296 to 0.80076, saving model to best_model0.hdf5\n",
      "645/645 [==============================] - 16s 25ms/step - loss: 0.4937 - accuracy: 0.8109 - val_loss: 0.5139 - val_accuracy: 0.8008\n",
      "Epoch 4/5\n",
      "643/645 [============================>.] - ETA: 0s - loss: 0.4675 - accuracy: 0.8234\n",
      "Epoch 4: val_accuracy improved from 0.80076 to 0.81051, saving model to best_model0.hdf5\n",
      "645/645 [==============================] - 17s 26ms/step - loss: 0.4677 - accuracy: 0.8236 - val_loss: 0.4881 - val_accuracy: 0.8105\n",
      "Epoch 5/5\n",
      "643/645 [============================>.] - ETA: 0s - loss: 0.4626 - accuracy: 0.8283\n",
      "Epoch 5: val_accuracy did not improve from 0.81051\n",
      "645/645 [==============================] - 17s 26ms/step - loss: 0.4629 - accuracy: 0.8282 - val_loss: 0.5302 - val_accuracy: 0.7954\n"
     ]
    }
   ],
   "source": [
    "model0 = Sequential()\n",
    "model0.add(layers.Embedding(max_words, 15))\n",
    "model0.add(layers.SimpleRNN(15))\n",
    "model0.add(layers.Dense(3,activation='softmax'))\n",
    "\n",
    "\n",
    "model0.compile(optimizer='rmsprop',loss='categorical_crossentropy', metrics=['accuracy'])\n",
    "checkpoint0 = ModelCheckpoint(\"best_model0.hdf5\", monitor='val_accuracy', verbose=1,save_best_only=True, mode='auto', period=1,save_weights_only=False)\n",
    "history = model0.fit(X_train, y_train, epochs=5,validation_data=(X_test, y_test),callbacks=[checkpoint0])"
   ]
  },
  {
   "cell_type": "code",
   "execution_count": 82,
   "metadata": {
    "scrolled": true
   },
   "outputs": [
    {
     "name": "stdout",
     "output_type": "stream",
     "text": [
      "WARNING:tensorflow:`period` argument is deprecated. Please use `save_freq` to specify the frequency in number of batches seen.\n",
      "Epoch 1/70\n",
      "645/645 [==============================] - ETA: 0s - loss: 0.8310 - accuracy: 0.6353\n",
      "Epoch 1: val_accuracy improved from -inf to 0.70616, saving model to best_model1.hdf5\n",
      "645/645 [==============================] - 31s 45ms/step - loss: 0.8310 - accuracy: 0.6353 - val_loss: 0.6825 - val_accuracy: 0.7062\n",
      "Epoch 2/70\n",
      "644/645 [============================>.] - ETA: 0s - loss: 0.5938 - accuracy: 0.7653\n",
      "Epoch 2: val_accuracy improved from 0.70616 to 0.79130, saving model to best_model1.hdf5\n",
      "645/645 [==============================] - 29s 45ms/step - loss: 0.5937 - accuracy: 0.7654 - val_loss: 0.5353 - val_accuracy: 0.7913\n",
      "Epoch 3/70\n",
      "645/645 [==============================] - ETA: 0s - loss: 0.5107 - accuracy: 0.8010\n",
      "Epoch 3: val_accuracy improved from 0.79130 to 0.80643, saving model to best_model1.hdf5\n",
      "645/645 [==============================] - 31s 49ms/step - loss: 0.5107 - accuracy: 0.8010 - val_loss: 0.4948 - val_accuracy: 0.8064\n",
      "Epoch 4/70\n",
      "645/645 [==============================] - ETA: 0s - loss: 0.4764 - accuracy: 0.8159\n",
      "Epoch 4: val_accuracy improved from 0.80643 to 0.81633, saving model to best_model1.hdf5\n",
      "645/645 [==============================] - 30s 47ms/step - loss: 0.4764 - accuracy: 0.8159 - val_loss: 0.4798 - val_accuracy: 0.8163\n",
      "Epoch 5/70\n",
      "644/645 [============================>.] - ETA: 0s - loss: 0.4553 - accuracy: 0.8257\n",
      "Epoch 5: val_accuracy improved from 0.81633 to 0.82230, saving model to best_model1.hdf5\n",
      "645/645 [==============================] - 30s 46ms/step - loss: 0.4553 - accuracy: 0.8257 - val_loss: 0.4668 - val_accuracy: 0.8223\n",
      "Epoch 6/70\n",
      "644/645 [============================>.] - ETA: 0s - loss: 0.4379 - accuracy: 0.8313\n",
      "Epoch 6: val_accuracy improved from 0.82230 to 0.82492, saving model to best_model1.hdf5\n",
      "645/645 [==============================] - 29s 45ms/step - loss: 0.4379 - accuracy: 0.8313 - val_loss: 0.4613 - val_accuracy: 0.8249\n",
      "Epoch 7/70\n",
      "645/645 [==============================] - ETA: 0s - loss: 0.4253 - accuracy: 0.8408\n",
      "Epoch 7: val_accuracy improved from 0.82492 to 0.82695, saving model to best_model1.hdf5\n",
      "645/645 [==============================] - 28s 44ms/step - loss: 0.4253 - accuracy: 0.8408 - val_loss: 0.4618 - val_accuracy: 0.8270\n",
      "Epoch 8/70\n",
      "645/645 [==============================] - ETA: 0s - loss: 0.4144 - accuracy: 0.8450\n",
      "Epoch 8: val_accuracy improved from 0.82695 to 0.83161, saving model to best_model1.hdf5\n",
      "645/645 [==============================] - 27s 42ms/step - loss: 0.4144 - accuracy: 0.8450 - val_loss: 0.4489 - val_accuracy: 0.8316\n",
      "Epoch 9/70\n",
      "645/645 [==============================] - ETA: 0s - loss: 0.4102 - accuracy: 0.8449\n",
      "Epoch 9: val_accuracy improved from 0.83161 to 0.83263, saving model to best_model1.hdf5\n",
      "645/645 [==============================] - 29s 45ms/step - loss: 0.4102 - accuracy: 0.8449 - val_loss: 0.4487 - val_accuracy: 0.8326\n",
      "Epoch 10/70\n",
      "644/645 [============================>.] - ETA: 0s - loss: 0.4045 - accuracy: 0.8477\n",
      "Epoch 10: val_accuracy did not improve from 0.83263\n",
      "645/645 [==============================] - 29s 45ms/step - loss: 0.4046 - accuracy: 0.8476 - val_loss: 0.4528 - val_accuracy: 0.8236\n",
      "Epoch 11/70\n",
      "645/645 [==============================] - ETA: 0s - loss: 0.3965 - accuracy: 0.8523\n",
      "Epoch 11: val_accuracy improved from 0.83263 to 0.83292, saving model to best_model1.hdf5\n",
      "645/645 [==============================] - 29s 46ms/step - loss: 0.3965 - accuracy: 0.8523 - val_loss: 0.4416 - val_accuracy: 0.8329\n",
      "Epoch 12/70\n",
      "645/645 [==============================] - ETA: 0s - loss: 0.3932 - accuracy: 0.8531\n",
      "Epoch 12: val_accuracy improved from 0.83292 to 0.83365, saving model to best_model1.hdf5\n",
      "645/645 [==============================] - 29s 45ms/step - loss: 0.3932 - accuracy: 0.8531 - val_loss: 0.4347 - val_accuracy: 0.8336\n",
      "Epoch 13/70\n",
      "645/645 [==============================] - ETA: 0s - loss: 0.3863 - accuracy: 0.8546\n",
      "Epoch 13: val_accuracy improved from 0.83365 to 0.83423, saving model to best_model1.hdf5\n",
      "645/645 [==============================] - 29s 45ms/step - loss: 0.3863 - accuracy: 0.8546 - val_loss: 0.4357 - val_accuracy: 0.8342\n",
      "Epoch 14/70\n",
      "645/645 [==============================] - ETA: 0s - loss: 0.3829 - accuracy: 0.8588\n",
      "Epoch 14: val_accuracy improved from 0.83423 to 0.83569, saving model to best_model1.hdf5\n",
      "645/645 [==============================] - 29s 45ms/step - loss: 0.3829 - accuracy: 0.8588 - val_loss: 0.4342 - val_accuracy: 0.8357\n",
      "Epoch 15/70\n",
      "645/645 [==============================] - ETA: 0s - loss: 0.3766 - accuracy: 0.8606\n",
      "Epoch 15: val_accuracy did not improve from 0.83569\n",
      "645/645 [==============================] - 29s 46ms/step - loss: 0.3766 - accuracy: 0.8606 - val_loss: 0.4371 - val_accuracy: 0.8336\n",
      "Epoch 16/70\n",
      "644/645 [============================>.] - ETA: 0s - loss: 0.3703 - accuracy: 0.8625\n",
      "Epoch 16: val_accuracy improved from 0.83569 to 0.83758, saving model to best_model1.hdf5\n",
      "645/645 [==============================] - 30s 46ms/step - loss: 0.3703 - accuracy: 0.8625 - val_loss: 0.4355 - val_accuracy: 0.8376\n",
      "Epoch 17/70\n",
      "645/645 [==============================] - ETA: 0s - loss: 0.3697 - accuracy: 0.8623\n",
      "Epoch 17: val_accuracy improved from 0.83758 to 0.83860, saving model to best_model1.hdf5\n",
      "645/645 [==============================] - 30s 46ms/step - loss: 0.3697 - accuracy: 0.8623 - val_loss: 0.4313 - val_accuracy: 0.8386\n",
      "Epoch 18/70\n",
      "645/645 [==============================] - ETA: 0s - loss: 0.3683 - accuracy: 0.8641\n",
      "Epoch 18: val_accuracy did not improve from 0.83860\n",
      "645/645 [==============================] - 29s 45ms/step - loss: 0.3683 - accuracy: 0.8641 - val_loss: 0.4344 - val_accuracy: 0.8354\n",
      "Epoch 19/70\n",
      "645/645 [==============================] - ETA: 0s - loss: 0.3622 - accuracy: 0.8636\n",
      "Epoch 19: val_accuracy did not improve from 0.83860\n",
      "645/645 [==============================] - 29s 45ms/step - loss: 0.3622 - accuracy: 0.8636 - val_loss: 0.4334 - val_accuracy: 0.8386\n",
      "Epoch 20/70\n",
      "645/645 [==============================] - ETA: 0s - loss: 0.3600 - accuracy: 0.8655\n",
      "Epoch 20: val_accuracy did not improve from 0.83860\n",
      "645/645 [==============================] - 29s 45ms/step - loss: 0.3600 - accuracy: 0.8655 - val_loss: 0.4293 - val_accuracy: 0.8385\n",
      "Epoch 21/70\n",
      "644/645 [============================>.] - ETA: 0s - loss: 0.3585 - accuracy: 0.8675\n",
      "Epoch 21: val_accuracy improved from 0.83860 to 0.84224, saving model to best_model1.hdf5\n",
      "645/645 [==============================] - 30s 47ms/step - loss: 0.3585 - accuracy: 0.8675 - val_loss: 0.4318 - val_accuracy: 0.8422\n",
      "Epoch 22/70\n",
      "645/645 [==============================] - ETA: 0s - loss: 0.3551 - accuracy: 0.8673\n",
      "Epoch 22: val_accuracy did not improve from 0.84224\n",
      "645/645 [==============================] - 31s 48ms/step - loss: 0.3551 - accuracy: 0.8673 - val_loss: 0.4257 - val_accuracy: 0.8409\n",
      "Epoch 23/70\n",
      "644/645 [============================>.] - ETA: 0s - loss: 0.3536 - accuracy: 0.8684\n",
      "Epoch 23: val_accuracy improved from 0.84224 to 0.84413, saving model to best_model1.hdf5\n",
      "645/645 [==============================] - 30s 46ms/step - loss: 0.3536 - accuracy: 0.8685 - val_loss: 0.4272 - val_accuracy: 0.8441\n",
      "Epoch 24/70\n",
      "645/645 [==============================] - ETA: 0s - loss: 0.3518 - accuracy: 0.8715\n",
      "Epoch 24: val_accuracy did not improve from 0.84413\n",
      "645/645 [==============================] - 30s 47ms/step - loss: 0.3518 - accuracy: 0.8715 - val_loss: 0.4313 - val_accuracy: 0.8428\n",
      "Epoch 25/70\n",
      "645/645 [==============================] - ETA: 0s - loss: 0.3497 - accuracy: 0.8706\n",
      "Epoch 25: val_accuracy did not improve from 0.84413\n",
      "645/645 [==============================] - 30s 47ms/step - loss: 0.3497 - accuracy: 0.8706 - val_loss: 0.4321 - val_accuracy: 0.8402\n",
      "Epoch 26/70\n",
      "644/645 [============================>.] - ETA: 0s - loss: 0.3484 - accuracy: 0.8693\n",
      "Epoch 26: val_accuracy did not improve from 0.84413\n",
      "645/645 [==============================] - 29s 45ms/step - loss: 0.3484 - accuracy: 0.8692 - val_loss: 0.4277 - val_accuracy: 0.8401\n",
      "Epoch 27/70\n",
      "645/645 [==============================] - ETA: 0s - loss: 0.3499 - accuracy: 0.8694\n",
      "Epoch 27: val_accuracy did not improve from 0.84413\n"
     ]
    },
    {
     "name": "stdout",
     "output_type": "stream",
     "text": [
      "645/645 [==============================] - 27s 42ms/step - loss: 0.3499 - accuracy: 0.8694 - val_loss: 0.4248 - val_accuracy: 0.8435\n",
      "Epoch 28/70\n",
      "644/645 [============================>.] - ETA: 0s - loss: 0.3459 - accuracy: 0.8702\n",
      "Epoch 28: val_accuracy did not improve from 0.84413\n",
      "645/645 [==============================] - 27s 41ms/step - loss: 0.3459 - accuracy: 0.8702 - val_loss: 0.4283 - val_accuracy: 0.8325\n",
      "Epoch 29/70\n",
      "644/645 [============================>.] - ETA: 0s - loss: 0.3442 - accuracy: 0.8720\n",
      "Epoch 29: val_accuracy did not improve from 0.84413\n",
      "645/645 [==============================] - 29s 45ms/step - loss: 0.3442 - accuracy: 0.8720 - val_loss: 0.4253 - val_accuracy: 0.8401\n",
      "Epoch 30/70\n",
      "645/645 [==============================] - ETA: 0s - loss: 0.3438 - accuracy: 0.8736\n",
      "Epoch 30: val_accuracy did not improve from 0.84413\n",
      "645/645 [==============================] - 29s 45ms/step - loss: 0.3438 - accuracy: 0.8736 - val_loss: 0.4320 - val_accuracy: 0.8414\n",
      "Epoch 31/70\n",
      "644/645 [============================>.] - ETA: 0s - loss: 0.3411 - accuracy: 0.8743\n",
      "Epoch 31: val_accuracy improved from 0.84413 to 0.84471, saving model to best_model1.hdf5\n",
      "645/645 [==============================] - 29s 45ms/step - loss: 0.3411 - accuracy: 0.8743 - val_loss: 0.4311 - val_accuracy: 0.8447\n",
      "Epoch 32/70\n",
      "644/645 [============================>.] - ETA: 0s - loss: 0.3426 - accuracy: 0.8749\n",
      "Epoch 32: val_accuracy did not improve from 0.84471\n",
      "645/645 [==============================] - 29s 45ms/step - loss: 0.3425 - accuracy: 0.8749 - val_loss: 0.4264 - val_accuracy: 0.8440\n",
      "Epoch 33/70\n",
      "645/645 [==============================] - ETA: 0s - loss: 0.3400 - accuracy: 0.8755\n",
      "Epoch 33: val_accuracy did not improve from 0.84471\n",
      "645/645 [==============================] - 29s 45ms/step - loss: 0.3400 - accuracy: 0.8755 - val_loss: 0.4205 - val_accuracy: 0.8431\n",
      "Epoch 34/70\n",
      "645/645 [==============================] - ETA: 0s - loss: 0.3389 - accuracy: 0.8757\n",
      "Epoch 34: val_accuracy did not improve from 0.84471\n",
      "645/645 [==============================] - 29s 46ms/step - loss: 0.3389 - accuracy: 0.8757 - val_loss: 0.4253 - val_accuracy: 0.8437\n",
      "Epoch 35/70\n",
      "645/645 [==============================] - ETA: 0s - loss: 0.3408 - accuracy: 0.8766\n",
      "Epoch 35: val_accuracy did not improve from 0.84471\n",
      "645/645 [==============================] - 30s 46ms/step - loss: 0.3408 - accuracy: 0.8766 - val_loss: 0.4243 - val_accuracy: 0.8435\n",
      "Epoch 36/70\n",
      "645/645 [==============================] - ETA: 0s - loss: 0.3374 - accuracy: 0.8755\n",
      "Epoch 36: val_accuracy did not improve from 0.84471\n",
      "645/645 [==============================] - 30s 46ms/step - loss: 0.3374 - accuracy: 0.8755 - val_loss: 0.4279 - val_accuracy: 0.8440\n",
      "Epoch 37/70\n",
      "645/645 [==============================] - ETA: 0s - loss: 0.3372 - accuracy: 0.8767\n",
      "Epoch 37: val_accuracy did not improve from 0.84471\n",
      "645/645 [==============================] - 28s 43ms/step - loss: 0.3372 - accuracy: 0.8767 - val_loss: 0.4273 - val_accuracy: 0.8425\n",
      "Epoch 38/70\n",
      "645/645 [==============================] - ETA: 0s - loss: 0.3376 - accuracy: 0.8759\n",
      "Epoch 38: val_accuracy did not improve from 0.84471\n",
      "645/645 [==============================] - 29s 44ms/step - loss: 0.3376 - accuracy: 0.8759 - val_loss: 0.4256 - val_accuracy: 0.8437\n",
      "Epoch 39/70\n",
      "645/645 [==============================] - ETA: 0s - loss: 0.3370 - accuracy: 0.8760\n",
      "Epoch 39: val_accuracy did not improve from 0.84471\n",
      "645/645 [==============================] - 28s 44ms/step - loss: 0.3370 - accuracy: 0.8760 - val_loss: 0.4284 - val_accuracy: 0.8418\n",
      "Epoch 40/70\n",
      "645/645 [==============================] - ETA: 0s - loss: 0.3349 - accuracy: 0.8776\n",
      "Epoch 40: val_accuracy did not improve from 0.84471\n",
      "645/645 [==============================] - 29s 44ms/step - loss: 0.3349 - accuracy: 0.8776 - val_loss: 0.4316 - val_accuracy: 0.8412\n",
      "Epoch 41/70\n",
      "644/645 [============================>.] - ETA: 0s - loss: 0.3320 - accuracy: 0.8770\n",
      "Epoch 41: val_accuracy did not improve from 0.84471\n",
      "645/645 [==============================] - 29s 45ms/step - loss: 0.3320 - accuracy: 0.8770 - val_loss: 0.4304 - val_accuracy: 0.8419\n",
      "Epoch 42/70\n",
      "644/645 [============================>.] - ETA: 0s - loss: 0.3306 - accuracy: 0.8807\n",
      "Epoch 42: val_accuracy did not improve from 0.84471\n",
      "645/645 [==============================] - 29s 44ms/step - loss: 0.3307 - accuracy: 0.8806 - val_loss: 0.4301 - val_accuracy: 0.8430\n",
      "Epoch 43/70\n",
      "644/645 [============================>.] - ETA: 0s - loss: 0.3367 - accuracy: 0.8763\n",
      "Epoch 43: val_accuracy did not improve from 0.84471\n",
      "645/645 [==============================] - 29s 45ms/step - loss: 0.3366 - accuracy: 0.8763 - val_loss: 0.4306 - val_accuracy: 0.8443\n",
      "Epoch 44/70\n",
      "645/645 [==============================] - ETA: 0s - loss: 0.3327 - accuracy: 0.8774\n",
      "Epoch 44: val_accuracy did not improve from 0.84471\n",
      "645/645 [==============================] - 27s 41ms/step - loss: 0.3327 - accuracy: 0.8774 - val_loss: 0.4304 - val_accuracy: 0.8430\n",
      "Epoch 45/70\n",
      "644/645 [============================>.] - ETA: 0s - loss: 0.3311 - accuracy: 0.8773\n",
      "Epoch 45: val_accuracy did not improve from 0.84471\n",
      "645/645 [==============================] - 27s 41ms/step - loss: 0.3311 - accuracy: 0.8773 - val_loss: 0.4309 - val_accuracy: 0.8431\n",
      "Epoch 46/70\n",
      "645/645 [==============================] - ETA: 0s - loss: 0.3280 - accuracy: 0.8793\n",
      "Epoch 46: val_accuracy did not improve from 0.84471\n",
      "645/645 [==============================] - 27s 41ms/step - loss: 0.3280 - accuracy: 0.8793 - val_loss: 0.4322 - val_accuracy: 0.8428\n",
      "Epoch 47/70\n",
      "644/645 [============================>.] - ETA: 0s - loss: 0.3323 - accuracy: 0.8767\n",
      "Epoch 47: val_accuracy did not improve from 0.84471\n",
      "645/645 [==============================] - 27s 42ms/step - loss: 0.3324 - accuracy: 0.8767 - val_loss: 0.4286 - val_accuracy: 0.8430\n",
      "Epoch 48/70\n",
      "645/645 [==============================] - ETA: 0s - loss: 0.3290 - accuracy: 0.8798\n",
      "Epoch 48: val_accuracy did not improve from 0.84471\n",
      "645/645 [==============================] - 27s 42ms/step - loss: 0.3290 - accuracy: 0.8798 - val_loss: 0.4292 - val_accuracy: 0.8412\n",
      "Epoch 49/70\n",
      "645/645 [==============================] - ETA: 0s - loss: 0.3288 - accuracy: 0.8798\n",
      "Epoch 49: val_accuracy did not improve from 0.84471\n",
      "645/645 [==============================] - 27s 42ms/step - loss: 0.3288 - accuracy: 0.8798 - val_loss: 0.4348 - val_accuracy: 0.8421\n",
      "Epoch 50/70\n",
      "644/645 [============================>.] - ETA: 0s - loss: 0.3262 - accuracy: 0.8769\n",
      "Epoch 50: val_accuracy did not improve from 0.84471\n",
      "645/645 [==============================] - 28s 44ms/step - loss: 0.3264 - accuracy: 0.8769 - val_loss: 0.4379 - val_accuracy: 0.8347\n",
      "Epoch 51/70\n",
      "644/645 [============================>.] - ETA: 0s - loss: 0.3257 - accuracy: 0.8795\n",
      "Epoch 51: val_accuracy did not improve from 0.84471\n",
      "645/645 [==============================] - 29s 45ms/step - loss: 0.3257 - accuracy: 0.8795 - val_loss: 0.4289 - val_accuracy: 0.8417\n",
      "Epoch 52/70\n",
      "645/645 [==============================] - ETA: 0s - loss: 0.3261 - accuracy: 0.8810\n",
      "Epoch 52: val_accuracy did not improve from 0.84471\n",
      "645/645 [==============================] - 29s 45ms/step - loss: 0.3261 - accuracy: 0.8810 - val_loss: 0.4378 - val_accuracy: 0.8383\n",
      "Epoch 53/70\n",
      "644/645 [============================>.] - ETA: 0s - loss: 0.3254 - accuracy: 0.8790\n",
      "Epoch 53: val_accuracy did not improve from 0.84471\n",
      "645/645 [==============================] - 30s 46ms/step - loss: 0.3254 - accuracy: 0.8789 - val_loss: 0.4400 - val_accuracy: 0.8320\n",
      "Epoch 54/70\n",
      "645/645 [==============================] - ETA: 0s - loss: 0.3260 - accuracy: 0.8804\n",
      "Epoch 54: val_accuracy did not improve from 0.84471\n",
      "645/645 [==============================] - 30s 46ms/step - loss: 0.3260 - accuracy: 0.8804 - val_loss: 0.4345 - val_accuracy: 0.8435\n",
      "Epoch 55/70\n",
      "645/645 [==============================] - ETA: 0s - loss: 0.3228 - accuracy: 0.8815\n",
      "Epoch 55: val_accuracy did not improve from 0.84471\n",
      "645/645 [==============================] - 30s 47ms/step - loss: 0.3228 - accuracy: 0.8815 - val_loss: 0.4306 - val_accuracy: 0.8406\n",
      "Epoch 56/70\n",
      "645/645 [==============================] - ETA: 0s - loss: 0.3224 - accuracy: 0.8821\n",
      "Epoch 56: val_accuracy did not improve from 0.84471\n"
     ]
    },
    {
     "name": "stdout",
     "output_type": "stream",
     "text": [
      "645/645 [==============================] - 30s 46ms/step - loss: 0.3224 - accuracy: 0.8821 - val_loss: 0.4263 - val_accuracy: 0.8434\n",
      "Epoch 57/70\n",
      "645/645 [==============================] - ETA: 0s - loss: 0.3210 - accuracy: 0.8801\n",
      "Epoch 57: val_accuracy did not improve from 0.84471\n",
      "645/645 [==============================] - 30s 46ms/step - loss: 0.3210 - accuracy: 0.8801 - val_loss: 0.4409 - val_accuracy: 0.8380\n",
      "Epoch 58/70\n",
      "645/645 [==============================] - ETA: 0s - loss: 0.3240 - accuracy: 0.8800\n",
      "Epoch 58: val_accuracy did not improve from 0.84471\n",
      "645/645 [==============================] - 31s 47ms/step - loss: 0.3240 - accuracy: 0.8800 - val_loss: 0.4316 - val_accuracy: 0.8428\n",
      "Epoch 59/70\n",
      "644/645 [============================>.] - ETA: 0s - loss: 0.3181 - accuracy: 0.8828\n",
      "Epoch 59: val_accuracy did not improve from 0.84471\n",
      "645/645 [==============================] - 31s 49ms/step - loss: 0.3181 - accuracy: 0.8828 - val_loss: 0.4334 - val_accuracy: 0.8447\n",
      "Epoch 60/70\n",
      "644/645 [============================>.] - ETA: 0s - loss: 0.3200 - accuracy: 0.8823\n",
      "Epoch 60: val_accuracy did not improve from 0.84471\n",
      "645/645 [==============================] - 31s 48ms/step - loss: 0.3200 - accuracy: 0.8823 - val_loss: 0.4311 - val_accuracy: 0.8430\n",
      "Epoch 61/70\n",
      "644/645 [============================>.] - ETA: 0s - loss: 0.3188 - accuracy: 0.8836\n",
      "Epoch 61: val_accuracy did not improve from 0.84471\n",
      "645/645 [==============================] - 29s 45ms/step - loss: 0.3189 - accuracy: 0.8836 - val_loss: 0.4339 - val_accuracy: 0.8398\n",
      "Epoch 62/70\n",
      "644/645 [============================>.] - ETA: 0s - loss: 0.3204 - accuracy: 0.8817\n",
      "Epoch 62: val_accuracy did not improve from 0.84471\n",
      "645/645 [==============================] - 27s 41ms/step - loss: 0.3204 - accuracy: 0.8818 - val_loss: 0.4296 - val_accuracy: 0.8422\n",
      "Epoch 63/70\n",
      "644/645 [============================>.] - ETA: 0s - loss: 0.3169 - accuracy: 0.8832\n",
      "Epoch 63: val_accuracy did not improve from 0.84471\n",
      "645/645 [==============================] - 27s 43ms/step - loss: 0.3169 - accuracy: 0.8832 - val_loss: 0.4310 - val_accuracy: 0.8430\n",
      "Epoch 64/70\n",
      "644/645 [============================>.] - ETA: 0s - loss: 0.3157 - accuracy: 0.8841\n",
      "Epoch 64: val_accuracy did not improve from 0.84471\n",
      "645/645 [==============================] - 29s 46ms/step - loss: 0.3157 - accuracy: 0.8841 - val_loss: 0.4314 - val_accuracy: 0.8409\n",
      "Epoch 65/70\n",
      "645/645 [==============================] - ETA: 0s - loss: 0.3212 - accuracy: 0.8802\n",
      "Epoch 65: val_accuracy did not improve from 0.84471\n",
      "645/645 [==============================] - 32s 49ms/step - loss: 0.3212 - accuracy: 0.8802 - val_loss: 0.4358 - val_accuracy: 0.8379\n",
      "Epoch 66/70\n",
      "645/645 [==============================] - ETA: 0s - loss: 0.3167 - accuracy: 0.8836\n",
      "Epoch 66: val_accuracy did not improve from 0.84471\n",
      "645/645 [==============================] - 32s 50ms/step - loss: 0.3167 - accuracy: 0.8836 - val_loss: 0.4323 - val_accuracy: 0.8408\n",
      "Epoch 67/70\n",
      "644/645 [============================>.] - ETA: 0s - loss: 0.3148 - accuracy: 0.8851\n",
      "Epoch 67: val_accuracy did not improve from 0.84471\n",
      "645/645 [==============================] - 32s 49ms/step - loss: 0.3148 - accuracy: 0.8851 - val_loss: 0.4371 - val_accuracy: 0.8409\n",
      "Epoch 68/70\n",
      "645/645 [==============================] - ETA: 0s - loss: 0.3130 - accuracy: 0.8846\n",
      "Epoch 68: val_accuracy did not improve from 0.84471\n",
      "645/645 [==============================] - 32s 50ms/step - loss: 0.3130 - accuracy: 0.8846 - val_loss: 0.4333 - val_accuracy: 0.8431\n",
      "Epoch 69/70\n",
      "645/645 [==============================] - ETA: 0s - loss: 0.3123 - accuracy: 0.8839\n",
      "Epoch 69: val_accuracy did not improve from 0.84471\n",
      "645/645 [==============================] - 32s 50ms/step - loss: 0.3123 - accuracy: 0.8839 - val_loss: 0.4396 - val_accuracy: 0.8401\n",
      "Epoch 70/70\n",
      "644/645 [============================>.] - ETA: 0s - loss: 0.3153 - accuracy: 0.8842\n",
      "Epoch 70: val_accuracy did not improve from 0.84471\n",
      "645/645 [==============================] - 31s 48ms/step - loss: 0.3154 - accuracy: 0.8842 - val_loss: 0.4304 - val_accuracy: 0.8437\n"
     ]
    }
   ],
   "source": [
    "model1 = Sequential()\n",
    "model1.add(layers.Embedding(max_words, 20))\n",
    "model1.add(layers.LSTM(15,dropout=0.5))\n",
    "model1.add(layers.Dense(3,activation='softmax'))\n",
    "\n",
    "model1.compile(optimizer='rmsprop',loss='categorical_crossentropy', metrics=['accuracy'])\n",
    "checkpoint1 = ModelCheckpoint(\"best_model1.hdf5\", monitor='val_accuracy', verbose=1,save_best_only=True, mode='auto', period=1,save_weights_only=False)\n",
    "history = model1.fit(X_train, y_train, epochs=70,validation_data=(X_test, y_test),callbacks=[checkpoint1])"
   ]
  },
  {
   "cell_type": "code",
   "execution_count": 83,
   "metadata": {
    "scrolled": true
   },
   "outputs": [
    {
     "name": "stdout",
     "output_type": "stream",
     "text": [
      "WARNING:tensorflow:`period` argument is deprecated. Please use `save_freq` to specify the frequency in number of batches seen.\n",
      "Epoch 1/70\n",
      "644/645 [============================>.] - ETA: 0s - loss: 0.8045 - accuracy: 0.6374\n",
      "Epoch 1: val_accuracy improved from -inf to 0.70252, saving model to best_model2.hdf5\n",
      "645/645 [==============================] - 44s 64ms/step - loss: 0.8044 - accuracy: 0.6374 - val_loss: 0.6852 - val_accuracy: 0.7025\n",
      "Epoch 2/70\n",
      "644/645 [============================>.] - ETA: 0s - loss: 0.5798 - accuracy: 0.7674\n",
      "Epoch 2: val_accuracy improved from 0.70252 to 0.79042, saving model to best_model2.hdf5\n",
      "645/645 [==============================] - 40s 61ms/step - loss: 0.5798 - accuracy: 0.7673 - val_loss: 0.5330 - val_accuracy: 0.7904\n",
      "Epoch 3/70\n",
      "644/645 [============================>.] - ETA: 0s - loss: 0.5036 - accuracy: 0.8039\n",
      "Epoch 3: val_accuracy improved from 0.79042 to 0.79173, saving model to best_model2.hdf5\n",
      "645/645 [==============================] - 39s 60ms/step - loss: 0.5035 - accuracy: 0.8039 - val_loss: 0.5146 - val_accuracy: 0.7917\n",
      "Epoch 4/70\n",
      "644/645 [============================>.] - ETA: 0s - loss: 0.4696 - accuracy: 0.8191\n",
      "Epoch 4: val_accuracy improved from 0.79173 to 0.80338, saving model to best_model2.hdf5\n",
      "645/645 [==============================] - 37s 57ms/step - loss: 0.4696 - accuracy: 0.8191 - val_loss: 0.4872 - val_accuracy: 0.8034\n",
      "Epoch 5/70\n",
      "644/645 [============================>.] - ETA: 0s - loss: 0.4491 - accuracy: 0.8306\n",
      "Epoch 5: val_accuracy improved from 0.80338 to 0.81808, saving model to best_model2.hdf5\n",
      "645/645 [==============================] - 37s 58ms/step - loss: 0.4490 - accuracy: 0.8306 - val_loss: 0.4653 - val_accuracy: 0.8181\n",
      "Epoch 6/70\n",
      "644/645 [============================>.] - ETA: 0s - loss: 0.4346 - accuracy: 0.8345\n",
      "Epoch 6: val_accuracy improved from 0.81808 to 0.82390, saving model to best_model2.hdf5\n",
      "645/645 [==============================] - 37s 57ms/step - loss: 0.4346 - accuracy: 0.8345 - val_loss: 0.4559 - val_accuracy: 0.8239\n",
      "Epoch 7/70\n",
      "644/645 [============================>.] - ETA: 0s - loss: 0.4220 - accuracy: 0.8398\n",
      "Epoch 7: val_accuracy improved from 0.82390 to 0.82754, saving model to best_model2.hdf5\n",
      "645/645 [==============================] - 37s 57ms/step - loss: 0.4220 - accuracy: 0.8398 - val_loss: 0.4480 - val_accuracy: 0.8275\n",
      "Epoch 8/70\n",
      "644/645 [============================>.] - ETA: 0s - loss: 0.4089 - accuracy: 0.8472\n",
      "Epoch 8: val_accuracy improved from 0.82754 to 0.83088, saving model to best_model2.hdf5\n",
      "645/645 [==============================] - 37s 57ms/step - loss: 0.4089 - accuracy: 0.8473 - val_loss: 0.4470 - val_accuracy: 0.8309\n",
      "Epoch 9/70\n",
      "644/645 [============================>.] - ETA: 0s - loss: 0.4025 - accuracy: 0.8479\n",
      "Epoch 9: val_accuracy improved from 0.83088 to 0.83161, saving model to best_model2.hdf5\n",
      "645/645 [==============================] - 37s 57ms/step - loss: 0.4025 - accuracy: 0.8479 - val_loss: 0.4404 - val_accuracy: 0.8316\n",
      "Epoch 10/70\n",
      "644/645 [============================>.] - ETA: 0s - loss: 0.3943 - accuracy: 0.8511\n",
      "Epoch 10: val_accuracy did not improve from 0.83161\n",
      "645/645 [==============================] - 37s 57ms/step - loss: 0.3943 - accuracy: 0.8511 - val_loss: 0.4441 - val_accuracy: 0.8299\n",
      "Epoch 11/70\n",
      "644/645 [============================>.] - ETA: 0s - loss: 0.3893 - accuracy: 0.8547\n",
      "Epoch 11: val_accuracy did not improve from 0.83161\n",
      "645/645 [==============================] - 36s 56ms/step - loss: 0.3893 - accuracy: 0.8547 - val_loss: 0.4359 - val_accuracy: 0.8316\n",
      "Epoch 12/70\n",
      "644/645 [============================>.] - ETA: 0s - loss: 0.3837 - accuracy: 0.8579\n",
      "Epoch 12: val_accuracy improved from 0.83161 to 0.83452, saving model to best_model2.hdf5\n",
      "645/645 [==============================] - 36s 57ms/step - loss: 0.3837 - accuracy: 0.8579 - val_loss: 0.4326 - val_accuracy: 0.8345\n",
      "Epoch 13/70\n",
      "645/645 [==============================] - ETA: 0s - loss: 0.3764 - accuracy: 0.8586\n",
      "Epoch 13: val_accuracy improved from 0.83452 to 0.83481, saving model to best_model2.hdf5\n",
      "645/645 [==============================] - 36s 56ms/step - loss: 0.3764 - accuracy: 0.8586 - val_loss: 0.4281 - val_accuracy: 0.8348\n",
      "Epoch 14/70\n",
      "644/645 [============================>.] - ETA: 0s - loss: 0.3707 - accuracy: 0.8619\n",
      "Epoch 14: val_accuracy improved from 0.83481 to 0.83641, saving model to best_model2.hdf5\n",
      "645/645 [==============================] - 34s 53ms/step - loss: 0.3708 - accuracy: 0.8619 - val_loss: 0.4319 - val_accuracy: 0.8364\n",
      "Epoch 15/70\n",
      "645/645 [==============================] - ETA: 0s - loss: 0.3653 - accuracy: 0.8661\n",
      "Epoch 15: val_accuracy did not improve from 0.83641\n",
      "645/645 [==============================] - 34s 52ms/step - loss: 0.3653 - accuracy: 0.8661 - val_loss: 0.4284 - val_accuracy: 0.8352\n",
      "Epoch 16/70\n",
      "644/645 [============================>.] - ETA: 0s - loss: 0.3659 - accuracy: 0.8631\n",
      "Epoch 16: val_accuracy improved from 0.83641 to 0.83845, saving model to best_model2.hdf5\n",
      "645/645 [==============================] - 34s 53ms/step - loss: 0.3659 - accuracy: 0.8631 - val_loss: 0.4311 - val_accuracy: 0.8385\n",
      "Epoch 17/70\n",
      "645/645 [==============================] - ETA: 0s - loss: 0.3639 - accuracy: 0.8661\n",
      "Epoch 17: val_accuracy did not improve from 0.83845\n",
      "645/645 [==============================] - 34s 53ms/step - loss: 0.3639 - accuracy: 0.8661 - val_loss: 0.4226 - val_accuracy: 0.8380\n",
      "Epoch 18/70\n",
      "644/645 [============================>.] - ETA: 0s - loss: 0.3588 - accuracy: 0.8672\n",
      "Epoch 18: val_accuracy did not improve from 0.83845\n",
      "645/645 [==============================] - 34s 53ms/step - loss: 0.3588 - accuracy: 0.8672 - val_loss: 0.4233 - val_accuracy: 0.8376\n",
      "Epoch 19/70\n",
      "644/645 [============================>.] - ETA: 0s - loss: 0.3552 - accuracy: 0.8695\n",
      "Epoch 19: val_accuracy improved from 0.83845 to 0.84020, saving model to best_model2.hdf5\n",
      "645/645 [==============================] - 37s 57ms/step - loss: 0.3552 - accuracy: 0.8695 - val_loss: 0.4240 - val_accuracy: 0.8402\n",
      "Epoch 20/70\n",
      "644/645 [============================>.] - ETA: 0s - loss: 0.3514 - accuracy: 0.8701\n",
      "Epoch 20: val_accuracy did not improve from 0.84020\n",
      "645/645 [==============================] - 39s 60ms/step - loss: 0.3514 - accuracy: 0.8702 - val_loss: 0.4319 - val_accuracy: 0.8382\n",
      "Epoch 21/70\n",
      "644/645 [============================>.] - ETA: 0s - loss: 0.3474 - accuracy: 0.8723\n",
      "Epoch 21: val_accuracy did not improve from 0.84020\n",
      "645/645 [==============================] - 37s 58ms/step - loss: 0.3474 - accuracy: 0.8723 - val_loss: 0.4286 - val_accuracy: 0.8383\n",
      "Epoch 22/70\n",
      "644/645 [============================>.] - ETA: 0s - loss: 0.3476 - accuracy: 0.8728\n",
      "Epoch 22: val_accuracy did not improve from 0.84020\n",
      "645/645 [==============================] - 37s 58ms/step - loss: 0.3476 - accuracy: 0.8728 - val_loss: 0.4260 - val_accuracy: 0.8399\n",
      "Epoch 23/70\n",
      "644/645 [============================>.] - ETA: 0s - loss: 0.3440 - accuracy: 0.8734\n",
      "Epoch 23: val_accuracy improved from 0.84020 to 0.84063, saving model to best_model2.hdf5\n",
      "645/645 [==============================] - 39s 60ms/step - loss: 0.3440 - accuracy: 0.8734 - val_loss: 0.4256 - val_accuracy: 0.8406\n",
      "Epoch 24/70\n",
      "644/645 [============================>.] - ETA: 0s - loss: 0.3429 - accuracy: 0.8745\n",
      "Epoch 24: val_accuracy did not improve from 0.84063\n",
      "645/645 [==============================] - 37s 58ms/step - loss: 0.3429 - accuracy: 0.8745 - val_loss: 0.4294 - val_accuracy: 0.8385\n",
      "Epoch 25/70\n",
      "644/645 [============================>.] - ETA: 0s - loss: 0.3453 - accuracy: 0.8705\n",
      "Epoch 25: val_accuracy did not improve from 0.84063\n",
      "645/645 [==============================] - 35s 54ms/step - loss: 0.3453 - accuracy: 0.8705 - val_loss: 0.4247 - val_accuracy: 0.8402\n",
      "Epoch 26/70\n",
      "644/645 [============================>.] - ETA: 0s - loss: 0.3412 - accuracy: 0.8737\n",
      "Epoch 26: val_accuracy did not improve from 0.84063\n",
      "645/645 [==============================] - 35s 54ms/step - loss: 0.3412 - accuracy: 0.8738 - val_loss: 0.4264 - val_accuracy: 0.8393\n",
      "Epoch 27/70\n",
      "644/645 [============================>.] - ETA: 0s - loss: 0.3349 - accuracy: 0.8765\n",
      "Epoch 27: val_accuracy did not improve from 0.84063\n",
      "645/645 [==============================] - 36s 56ms/step - loss: 0.3349 - accuracy: 0.8765 - val_loss: 0.4369 - val_accuracy: 0.8401\n"
     ]
    },
    {
     "name": "stdout",
     "output_type": "stream",
     "text": [
      "Epoch 28/70\n",
      "644/645 [============================>.] - ETA: 0s - loss: 0.3399 - accuracy: 0.8749\n",
      "Epoch 28: val_accuracy did not improve from 0.84063\n",
      "645/645 [==============================] - 34s 53ms/step - loss: 0.3398 - accuracy: 0.8749 - val_loss: 0.4315 - val_accuracy: 0.8401\n",
      "Epoch 29/70\n",
      "644/645 [============================>.] - ETA: 0s - loss: 0.3334 - accuracy: 0.8774\n",
      "Epoch 29: val_accuracy did not improve from 0.84063\n",
      "645/645 [==============================] - 35s 54ms/step - loss: 0.3333 - accuracy: 0.8774 - val_loss: 0.4337 - val_accuracy: 0.8405\n",
      "Epoch 30/70\n",
      "644/645 [============================>.] - ETA: 0s - loss: 0.3294 - accuracy: 0.8795\n",
      "Epoch 30: val_accuracy improved from 0.84063 to 0.84224, saving model to best_model2.hdf5\n",
      "645/645 [==============================] - 35s 53ms/step - loss: 0.3294 - accuracy: 0.8795 - val_loss: 0.4267 - val_accuracy: 0.8422\n",
      "Epoch 31/70\n",
      "644/645 [============================>.] - ETA: 0s - loss: 0.3312 - accuracy: 0.8782\n",
      "Epoch 31: val_accuracy improved from 0.84224 to 0.84486, saving model to best_model2.hdf5\n",
      "645/645 [==============================] - 35s 54ms/step - loss: 0.3312 - accuracy: 0.8782 - val_loss: 0.4266 - val_accuracy: 0.8449\n",
      "Epoch 32/70\n",
      "644/645 [============================>.] - ETA: 0s - loss: 0.3339 - accuracy: 0.8775\n",
      "Epoch 32: val_accuracy improved from 0.84486 to 0.84544, saving model to best_model2.hdf5\n",
      "645/645 [==============================] - 35s 54ms/step - loss: 0.3338 - accuracy: 0.8775 - val_loss: 0.4218 - val_accuracy: 0.8454\n",
      "Epoch 33/70\n",
      "644/645 [============================>.] - ETA: 0s - loss: 0.3291 - accuracy: 0.8779\n",
      "Epoch 33: val_accuracy did not improve from 0.84544\n",
      "645/645 [==============================] - 35s 54ms/step - loss: 0.3291 - accuracy: 0.8779 - val_loss: 0.4269 - val_accuracy: 0.8427\n",
      "Epoch 34/70\n",
      "644/645 [============================>.] - ETA: 0s - loss: 0.3239 - accuracy: 0.8821\n",
      "Epoch 34: val_accuracy did not improve from 0.84544\n",
      "645/645 [==============================] - 35s 54ms/step - loss: 0.3239 - accuracy: 0.8821 - val_loss: 0.4309 - val_accuracy: 0.8425\n",
      "Epoch 35/70\n",
      "644/645 [============================>.] - ETA: 0s - loss: 0.3255 - accuracy: 0.8803\n",
      "Epoch 35: val_accuracy did not improve from 0.84544\n",
      "645/645 [==============================] - 35s 54ms/step - loss: 0.3255 - accuracy: 0.8803 - val_loss: 0.4310 - val_accuracy: 0.8398\n",
      "Epoch 36/70\n",
      "645/645 [==============================] - ETA: 0s - loss: 0.3237 - accuracy: 0.8819\n",
      "Epoch 36: val_accuracy did not improve from 0.84544\n",
      "645/645 [==============================] - 35s 54ms/step - loss: 0.3237 - accuracy: 0.8819 - val_loss: 0.4274 - val_accuracy: 0.8422\n",
      "Epoch 37/70\n",
      "644/645 [============================>.] - ETA: 0s - loss: 0.3178 - accuracy: 0.8854\n",
      "Epoch 37: val_accuracy did not improve from 0.84544\n",
      "645/645 [==============================] - 35s 54ms/step - loss: 0.3177 - accuracy: 0.8854 - val_loss: 0.4354 - val_accuracy: 0.8414\n",
      "Epoch 38/70\n",
      "644/645 [============================>.] - ETA: 0s - loss: 0.3225 - accuracy: 0.8808\n",
      "Epoch 38: val_accuracy did not improve from 0.84544\n",
      "645/645 [==============================] - 35s 54ms/step - loss: 0.3225 - accuracy: 0.8808 - val_loss: 0.4327 - val_accuracy: 0.8424\n",
      "Epoch 39/70\n",
      "644/645 [============================>.] - ETA: 0s - loss: 0.3175 - accuracy: 0.8846\n",
      "Epoch 39: val_accuracy did not improve from 0.84544\n",
      "645/645 [==============================] - 35s 54ms/step - loss: 0.3175 - accuracy: 0.8846 - val_loss: 0.4275 - val_accuracy: 0.8411\n",
      "Epoch 40/70\n",
      "645/645 [==============================] - ETA: 0s - loss: 0.3200 - accuracy: 0.8828\n",
      "Epoch 40: val_accuracy did not improve from 0.84544\n",
      "645/645 [==============================] - 36s 55ms/step - loss: 0.3200 - accuracy: 0.8828 - val_loss: 0.4324 - val_accuracy: 0.8421\n",
      "Epoch 41/70\n",
      "644/645 [============================>.] - ETA: 0s - loss: 0.3162 - accuracy: 0.8859\n",
      "Epoch 41: val_accuracy did not improve from 0.84544\n",
      "645/645 [==============================] - 38s 58ms/step - loss: 0.3162 - accuracy: 0.8859 - val_loss: 0.4294 - val_accuracy: 0.8451\n",
      "Epoch 42/70\n",
      "645/645 [==============================] - ETA: 0s - loss: 0.3147 - accuracy: 0.8852\n",
      "Epoch 42: val_accuracy did not improve from 0.84544\n",
      "645/645 [==============================] - 38s 58ms/step - loss: 0.3147 - accuracy: 0.8852 - val_loss: 0.4410 - val_accuracy: 0.8441\n",
      "Epoch 43/70\n",
      "644/645 [============================>.] - ETA: 0s - loss: 0.3128 - accuracy: 0.8872\n",
      "Epoch 43: val_accuracy did not improve from 0.84544\n",
      "645/645 [==============================] - 39s 60ms/step - loss: 0.3128 - accuracy: 0.8871 - val_loss: 0.4419 - val_accuracy: 0.8440\n",
      "Epoch 44/70\n",
      "644/645 [============================>.] - ETA: 0s - loss: 0.3138 - accuracy: 0.8853\n",
      "Epoch 44: val_accuracy did not improve from 0.84544\n",
      "645/645 [==============================] - 39s 60ms/step - loss: 0.3137 - accuracy: 0.8853 - val_loss: 0.4288 - val_accuracy: 0.8446\n",
      "Epoch 45/70\n",
      "644/645 [============================>.] - ETA: 0s - loss: 0.3107 - accuracy: 0.8850\n",
      "Epoch 45: val_accuracy did not improve from 0.84544\n",
      "645/645 [==============================] - 39s 60ms/step - loss: 0.3106 - accuracy: 0.8851 - val_loss: 0.4333 - val_accuracy: 0.8446\n",
      "Epoch 46/70\n",
      "644/645 [============================>.] - ETA: 0s - loss: 0.3110 - accuracy: 0.8862\n",
      "Epoch 46: val_accuracy did not improve from 0.84544\n",
      "645/645 [==============================] - 40s 62ms/step - loss: 0.3110 - accuracy: 0.8862 - val_loss: 0.4361 - val_accuracy: 0.8408\n",
      "Epoch 47/70\n",
      "645/645 [==============================] - ETA: 0s - loss: 0.3108 - accuracy: 0.8852\n",
      "Epoch 47: val_accuracy did not improve from 0.84544\n",
      "645/645 [==============================] - 39s 60ms/step - loss: 0.3108 - accuracy: 0.8852 - val_loss: 0.4410 - val_accuracy: 0.8424\n",
      "Epoch 48/70\n",
      "644/645 [============================>.] - ETA: 0s - loss: 0.3083 - accuracy: 0.8898\n",
      "Epoch 48: val_accuracy did not improve from 0.84544\n",
      "645/645 [==============================] - 39s 60ms/step - loss: 0.3083 - accuracy: 0.8898 - val_loss: 0.4420 - val_accuracy: 0.8425\n",
      "Epoch 49/70\n",
      "644/645 [============================>.] - ETA: 0s - loss: 0.3087 - accuracy: 0.8877\n",
      "Epoch 49: val_accuracy did not improve from 0.84544\n",
      "645/645 [==============================] - 39s 60ms/step - loss: 0.3087 - accuracy: 0.8877 - val_loss: 0.4340 - val_accuracy: 0.8428\n",
      "Epoch 50/70\n",
      "644/645 [============================>.] - ETA: 0s - loss: 0.3046 - accuracy: 0.8889\n",
      "Epoch 50: val_accuracy did not improve from 0.84544\n",
      "645/645 [==============================] - 39s 60ms/step - loss: 0.3046 - accuracy: 0.8889 - val_loss: 0.4345 - val_accuracy: 0.8454\n",
      "Epoch 51/70\n",
      "644/645 [============================>.] - ETA: 0s - loss: 0.3024 - accuracy: 0.8901\n",
      "Epoch 51: val_accuracy did not improve from 0.84544\n",
      "645/645 [==============================] - 39s 60ms/step - loss: 0.3024 - accuracy: 0.8901 - val_loss: 0.4369 - val_accuracy: 0.8443\n",
      "Epoch 52/70\n",
      "644/645 [============================>.] - ETA: 0s - loss: 0.3044 - accuracy: 0.8888\n",
      "Epoch 52: val_accuracy improved from 0.84544 to 0.84602, saving model to best_model2.hdf5\n",
      "645/645 [==============================] - 39s 60ms/step - loss: 0.3043 - accuracy: 0.8888 - val_loss: 0.4366 - val_accuracy: 0.8460\n",
      "Epoch 53/70\n",
      "644/645 [============================>.] - ETA: 0s - loss: 0.3039 - accuracy: 0.8898\n",
      "Epoch 53: val_accuracy did not improve from 0.84602\n",
      "645/645 [==============================] - 39s 60ms/step - loss: 0.3038 - accuracy: 0.8898 - val_loss: 0.4411 - val_accuracy: 0.8433\n",
      "Epoch 54/70\n",
      "644/645 [============================>.] - ETA: 0s - loss: 0.3067 - accuracy: 0.8873\n",
      "Epoch 54: val_accuracy did not improve from 0.84602\n",
      "645/645 [==============================] - 39s 60ms/step - loss: 0.3067 - accuracy: 0.8873 - val_loss: 0.4395 - val_accuracy: 0.8427\n",
      "Epoch 55/70\n",
      "644/645 [============================>.] - ETA: 0s - loss: 0.3040 - accuracy: 0.8904\n",
      "Epoch 55: val_accuracy did not improve from 0.84602\n",
      "645/645 [==============================] - 39s 60ms/step - loss: 0.3041 - accuracy: 0.8904 - val_loss: 0.4457 - val_accuracy: 0.8382\n",
      "Epoch 56/70\n",
      "644/645 [============================>.] - ETA: 0s - loss: 0.3034 - accuracy: 0.8894\n",
      "Epoch 56: val_accuracy did not improve from 0.84602\n"
     ]
    },
    {
     "name": "stdout",
     "output_type": "stream",
     "text": [
      "645/645 [==============================] - 39s 60ms/step - loss: 0.3034 - accuracy: 0.8894 - val_loss: 0.4406 - val_accuracy: 0.8415\n",
      "Epoch 57/70\n",
      "644/645 [============================>.] - ETA: 0s - loss: 0.2988 - accuracy: 0.8917\n",
      "Epoch 57: val_accuracy did not improve from 0.84602\n",
      "645/645 [==============================] - 39s 61ms/step - loss: 0.2988 - accuracy: 0.8917 - val_loss: 0.4456 - val_accuracy: 0.8415\n",
      "Epoch 58/70\n",
      "644/645 [============================>.] - ETA: 0s - loss: 0.3013 - accuracy: 0.8898\n",
      "Epoch 58: val_accuracy did not improve from 0.84602\n",
      "645/645 [==============================] - 36s 56ms/step - loss: 0.3013 - accuracy: 0.8898 - val_loss: 0.4435 - val_accuracy: 0.8421\n",
      "Epoch 59/70\n",
      "644/645 [============================>.] - ETA: 0s - loss: 0.3006 - accuracy: 0.8913\n",
      "Epoch 59: val_accuracy did not improve from 0.84602\n",
      "645/645 [==============================] - 36s 56ms/step - loss: 0.3006 - accuracy: 0.8913 - val_loss: 0.4439 - val_accuracy: 0.8414\n",
      "Epoch 60/70\n",
      "644/645 [============================>.] - ETA: 0s - loss: 0.2999 - accuracy: 0.8912\n",
      "Epoch 60: val_accuracy did not improve from 0.84602\n",
      "645/645 [==============================] - 36s 56ms/step - loss: 0.2998 - accuracy: 0.8912 - val_loss: 0.4403 - val_accuracy: 0.8433\n",
      "Epoch 61/70\n",
      "644/645 [============================>.] - ETA: 0s - loss: 0.2966 - accuracy: 0.8918\n",
      "Epoch 61: val_accuracy did not improve from 0.84602\n",
      "645/645 [==============================] - 36s 56ms/step - loss: 0.2966 - accuracy: 0.8918 - val_loss: 0.4434 - val_accuracy: 0.8403\n",
      "Epoch 62/70\n",
      "644/645 [============================>.] - ETA: 0s - loss: 0.2969 - accuracy: 0.8919\n",
      "Epoch 62: val_accuracy did not improve from 0.84602\n",
      "645/645 [==============================] - 36s 56ms/step - loss: 0.2969 - accuracy: 0.8919 - val_loss: 0.4431 - val_accuracy: 0.8449\n",
      "Epoch 63/70\n",
      "644/645 [============================>.] - ETA: 0s - loss: 0.2964 - accuracy: 0.8926\n",
      "Epoch 63: val_accuracy did not improve from 0.84602\n",
      "645/645 [==============================] - 36s 56ms/step - loss: 0.2964 - accuracy: 0.8926 - val_loss: 0.4447 - val_accuracy: 0.8415\n",
      "Epoch 64/70\n",
      "644/645 [============================>.] - ETA: 0s - loss: 0.2947 - accuracy: 0.8920\n",
      "Epoch 64: val_accuracy did not improve from 0.84602\n",
      "645/645 [==============================] - 37s 57ms/step - loss: 0.2947 - accuracy: 0.8920 - val_loss: 0.4530 - val_accuracy: 0.8402\n",
      "Epoch 65/70\n",
      "644/645 [============================>.] - ETA: 0s - loss: 0.2954 - accuracy: 0.8944\n",
      "Epoch 65: val_accuracy did not improve from 0.84602\n",
      "645/645 [==============================] - 40s 61ms/step - loss: 0.2954 - accuracy: 0.8944 - val_loss: 0.4487 - val_accuracy: 0.8414\n",
      "Epoch 66/70\n",
      "644/645 [============================>.] - ETA: 0s - loss: 0.2990 - accuracy: 0.8913\n",
      "Epoch 66: val_accuracy did not improve from 0.84602\n",
      "645/645 [==============================] - 40s 62ms/step - loss: 0.2993 - accuracy: 0.8912 - val_loss: 0.4423 - val_accuracy: 0.8450\n",
      "Epoch 67/70\n",
      "644/645 [============================>.] - ETA: 0s - loss: 0.2952 - accuracy: 0.8927\n",
      "Epoch 67: val_accuracy did not improve from 0.84602\n",
      "645/645 [==============================] - 39s 60ms/step - loss: 0.2953 - accuracy: 0.8927 - val_loss: 0.4442 - val_accuracy: 0.8395\n",
      "Epoch 68/70\n",
      "644/645 [============================>.] - ETA: 0s - loss: 0.2908 - accuracy: 0.8949\n",
      "Epoch 68: val_accuracy did not improve from 0.84602\n",
      "645/645 [==============================] - 39s 60ms/step - loss: 0.2908 - accuracy: 0.8950 - val_loss: 0.4525 - val_accuracy: 0.8447\n",
      "Epoch 69/70\n",
      "644/645 [============================>.] - ETA: 0s - loss: 0.2956 - accuracy: 0.8928\n",
      "Epoch 69: val_accuracy did not improve from 0.84602\n",
      "645/645 [==============================] - 39s 60ms/step - loss: 0.2956 - accuracy: 0.8928 - val_loss: 0.4482 - val_accuracy: 0.8433\n",
      "Epoch 70/70\n",
      "644/645 [============================>.] - ETA: 0s - loss: 0.2906 - accuracy: 0.8933\n",
      "Epoch 70: val_accuracy did not improve from 0.84602\n",
      "645/645 [==============================] - 39s 60ms/step - loss: 0.2905 - accuracy: 0.8933 - val_loss: 0.4471 - val_accuracy: 0.8403\n"
     ]
    }
   ],
   "source": [
    "model2 = Sequential()\n",
    "model2.add(layers.Embedding(max_words, 40, input_length=max_len))\n",
    "model2.add(layers.Bidirectional(layers.LSTM(20,dropout=0.6)))\n",
    "model2.add(layers.Dense(3,activation='softmax'))\n",
    "model2.compile(optimizer='rmsprop',loss='categorical_crossentropy', metrics=['accuracy'])\n",
    "checkpoint2 = ModelCheckpoint(\"best_model2.hdf5\", monitor='val_accuracy', verbose=1,save_best_only=True, mode='auto', period=1,save_weights_only=False)\n",
    "history = model2.fit(X_train, y_train, epochs=70,validation_data=(X_test, y_test),callbacks=[checkpoint2])"
   ]
  },
  {
   "cell_type": "code",
   "execution_count": 84,
   "metadata": {
    "scrolled": true
   },
   "outputs": [
    {
     "name": "stdout",
     "output_type": "stream",
     "text": [
      "WARNING:tensorflow:`period` argument is deprecated. Please use `save_freq` to specify the frequency in number of batches seen.\n",
      "Epoch 1/70\n",
      "638/645 [============================>.] - ETA: 0s - loss: 1.0324 - acc: 0.5635WARNING:tensorflow:Can save best model only with val_accuracy available, skipping.\n",
      "645/645 [==============================] - 6s 8ms/step - loss: 1.0297 - acc: 0.5647 - val_loss: 0.9005 - val_acc: 0.6105\n",
      "Epoch 2/70\n",
      "641/645 [============================>.] - ETA: 0s - loss: 0.8558 - acc: 0.6208WARNING:tensorflow:Can save best model only with val_accuracy available, skipping.\n",
      "645/645 [==============================] - 5s 8ms/step - loss: 0.8559 - acc: 0.6208 - val_loss: 0.8302 - val_acc: 0.6303\n",
      "Epoch 3/70\n",
      "644/645 [============================>.] - ETA: 0s - loss: 0.7598 - acc: 0.7157WARNING:tensorflow:Can save best model only with val_accuracy available, skipping.\n",
      "645/645 [==============================] - 5s 8ms/step - loss: 0.7598 - acc: 0.7157 - val_loss: 0.7338 - val_acc: 0.7507\n",
      "Epoch 4/70\n",
      "638/645 [============================>.] - ETA: 0s - loss: 0.6762 - acc: 0.7741WARNING:tensorflow:Can save best model only with val_accuracy available, skipping.\n",
      "645/645 [==============================] - 5s 8ms/step - loss: 0.6757 - acc: 0.7746 - val_loss: 0.6911 - val_acc: 0.7690\n",
      "Epoch 5/70\n",
      "642/645 [============================>.] - ETA: 0s - loss: 0.6357 - acc: 0.7854WARNING:tensorflow:Can save best model only with val_accuracy available, skipping.\n",
      "645/645 [==============================] - 5s 8ms/step - loss: 0.6356 - acc: 0.7853 - val_loss: 0.6569 - val_acc: 0.7705\n",
      "Epoch 6/70\n",
      "638/645 [============================>.] - ETA: 0s - loss: 0.6102 - acc: 0.7915WARNING:tensorflow:Can save best model only with val_accuracy available, skipping.\n",
      "645/645 [==============================] - 5s 8ms/step - loss: 0.6100 - acc: 0.7916 - val_loss: 0.6500 - val_acc: 0.7650\n",
      "Epoch 7/70\n",
      "638/645 [============================>.] - ETA: 0s - loss: 0.5907 - acc: 0.7985WARNING:tensorflow:Can save best model only with val_accuracy available, skipping.\n",
      "645/645 [==============================] - 5s 8ms/step - loss: 0.5907 - acc: 0.7984 - val_loss: 0.6705 - val_acc: 0.7711\n",
      "Epoch 8/70\n",
      "642/645 [============================>.] - ETA: 0s - loss: 0.5746 - acc: 0.8048WARNING:tensorflow:Can save best model only with val_accuracy available, skipping.\n",
      "645/645 [==============================] - 5s 8ms/step - loss: 0.5745 - acc: 0.8048 - val_loss: 0.6250 - val_acc: 0.7801\n",
      "Epoch 9/70\n",
      "638/645 [============================>.] - ETA: 0s - loss: 0.5545 - acc: 0.8157WARNING:tensorflow:Can save best model only with val_accuracy available, skipping.\n",
      "645/645 [==============================] - 5s 8ms/step - loss: 0.5556 - acc: 0.8153 - val_loss: 0.6077 - val_acc: 0.7875\n",
      "Epoch 10/70\n",
      "641/645 [============================>.] - ETA: 0s - loss: 0.5217 - acc: 0.8298WARNING:tensorflow:Can save best model only with val_accuracy available, skipping.\n",
      "645/645 [==============================] - 5s 8ms/step - loss: 0.5216 - acc: 0.8298 - val_loss: 0.5859 - val_acc: 0.8088\n",
      "Epoch 11/70\n",
      "641/645 [============================>.] - ETA: 0s - loss: 0.4905 - acc: 0.8438WARNING:tensorflow:Can save best model only with val_accuracy available, skipping.\n",
      "645/645 [==============================] - 5s 8ms/step - loss: 0.4902 - acc: 0.8440 - val_loss: 0.5540 - val_acc: 0.8140\n",
      "Epoch 12/70\n",
      "640/645 [============================>.] - ETA: 0s - loss: 0.4725 - acc: 0.8503WARNING:tensorflow:Can save best model only with val_accuracy available, skipping.\n",
      "645/645 [==============================] - 5s 8ms/step - loss: 0.4718 - acc: 0.8506 - val_loss: 0.5591 - val_acc: 0.8185\n",
      "Epoch 13/70\n",
      "639/645 [============================>.] - ETA: 0s - loss: 0.4595 - acc: 0.8561WARNING:tensorflow:Can save best model only with val_accuracy available, skipping.\n",
      "645/645 [==============================] - 5s 8ms/step - loss: 0.4587 - acc: 0.8564 - val_loss: 0.5492 - val_acc: 0.8219\n",
      "Epoch 14/70\n",
      "644/645 [============================>.] - ETA: 0s - loss: 0.4500 - acc: 0.8602WARNING:tensorflow:Can save best model only with val_accuracy available, skipping.\n",
      "645/645 [==============================] - 5s 8ms/step - loss: 0.4499 - acc: 0.8602 - val_loss: 0.5261 - val_acc: 0.8258\n",
      "Epoch 15/70\n",
      "638/645 [============================>.] - ETA: 0s - loss: 0.4409 - acc: 0.8631WARNING:tensorflow:Can save best model only with val_accuracy available, skipping.\n",
      "645/645 [==============================] - 6s 9ms/step - loss: 0.4417 - acc: 0.8631 - val_loss: 0.5448 - val_acc: 0.8137\n",
      "Epoch 16/70\n",
      "639/645 [============================>.] - ETA: 0s - loss: 0.4354 - acc: 0.8656WARNING:tensorflow:Can save best model only with val_accuracy available, skipping.\n",
      "645/645 [==============================] - 5s 8ms/step - loss: 0.4359 - acc: 0.8654 - val_loss: 0.5891 - val_acc: 0.7868\n",
      "Epoch 17/70\n",
      "645/645 [==============================] - ETA: 0s - loss: 0.4299 - acc: 0.8678WARNING:tensorflow:Can save best model only with val_accuracy available, skipping.\n",
      "645/645 [==============================] - 5s 8ms/step - loss: 0.4299 - acc: 0.8678 - val_loss: 0.5169 - val_acc: 0.8270\n",
      "Epoch 18/70\n",
      "641/645 [============================>.] - ETA: 0s - loss: 0.4260 - acc: 0.8697WARNING:tensorflow:Can save best model only with val_accuracy available, skipping.\n",
      "645/645 [==============================] - 5s 8ms/step - loss: 0.4258 - acc: 0.8697 - val_loss: 0.5207 - val_acc: 0.8243\n",
      "Epoch 19/70\n",
      "638/645 [============================>.] - ETA: 0s - loss: 0.4204 - acc: 0.8707WARNING:tensorflow:Can save best model only with val_accuracy available, skipping.\n",
      "645/645 [==============================] - 5s 8ms/step - loss: 0.4211 - acc: 0.8702 - val_loss: 0.5252 - val_acc: 0.8207\n",
      "Epoch 20/70\n",
      "644/645 [============================>.] - ETA: 0s - loss: 0.4171 - acc: 0.8724WARNING:tensorflow:Can save best model only with val_accuracy available, skipping.\n",
      "645/645 [==============================] - 5s 8ms/step - loss: 0.4171 - acc: 0.8724 - val_loss: 0.5179 - val_acc: 0.8318\n",
      "Epoch 21/70\n",
      "640/645 [============================>.] - ETA: 0s - loss: 0.4136 - acc: 0.8724WARNING:tensorflow:Can save best model only with val_accuracy available, skipping.\n",
      "645/645 [==============================] - 5s 8ms/step - loss: 0.4137 - acc: 0.8723 - val_loss: 0.5058 - val_acc: 0.8328\n",
      "Epoch 22/70\n",
      "645/645 [==============================] - ETA: 0s - loss: 0.4095 - acc: 0.8762WARNING:tensorflow:Can save best model only with val_accuracy available, skipping.\n",
      "645/645 [==============================] - 5s 8ms/step - loss: 0.4095 - acc: 0.8762 - val_loss: 0.5149 - val_acc: 0.8319\n",
      "Epoch 23/70\n",
      "645/645 [==============================] - ETA: 0s - loss: 0.4064 - acc: 0.8758WARNING:tensorflow:Can save best model only with val_accuracy available, skipping.\n",
      "645/645 [==============================] - 5s 8ms/step - loss: 0.4064 - acc: 0.8758 - val_loss: 0.5056 - val_acc: 0.8280\n",
      "Epoch 24/70\n",
      "642/645 [============================>.] - ETA: 0s - loss: 0.4026 - acc: 0.8786WARNING:tensorflow:Can save best model only with val_accuracy available, skipping.\n",
      "645/645 [==============================] - 6s 9ms/step - loss: 0.4030 - acc: 0.8784 - val_loss: 0.5349 - val_acc: 0.8312\n",
      "Epoch 25/70\n",
      "644/645 [============================>.] - ETA: 0s - loss: 0.4001 - acc: 0.8791WARNING:tensorflow:Can save best model only with val_accuracy available, skipping.\n",
      "645/645 [==============================] - 5s 8ms/step - loss: 0.4001 - acc: 0.8791 - val_loss: 0.5093 - val_acc: 0.8288\n",
      "Epoch 26/70\n",
      "639/645 [============================>.] - ETA: 0s - loss: 0.3965 - acc: 0.8792WARNING:tensorflow:Can save best model only with val_accuracy available, skipping.\n",
      "645/645 [==============================] - 5s 8ms/step - loss: 0.3968 - acc: 0.8792 - val_loss: 0.5116 - val_acc: 0.8351\n",
      "Epoch 27/70\n",
      "644/645 [============================>.] - ETA: 0s - loss: 0.3930 - acc: 0.8821WARNING:tensorflow:Can save best model only with val_accuracy available, skipping.\n",
      "645/645 [==============================] - 5s 8ms/step - loss: 0.3930 - acc: 0.8821 - val_loss: 0.5188 - val_acc: 0.8319\n",
      "Epoch 28/70\n",
      "643/645 [============================>.] - ETA: 0s - loss: 0.3920 - acc: 0.8822WARNING:tensorflow:Can save best model only with val_accuracy available, skipping.\n"
     ]
    },
    {
     "name": "stdout",
     "output_type": "stream",
     "text": [
      "645/645 [==============================] - 5s 7ms/step - loss: 0.3923 - acc: 0.8820 - val_loss: 0.5699 - val_acc: 0.7983\n",
      "Epoch 29/70\n",
      "642/645 [============================>.] - ETA: 0s - loss: 0.3877 - acc: 0.8842WARNING:tensorflow:Can save best model only with val_accuracy available, skipping.\n",
      "645/645 [==============================] - 5s 8ms/step - loss: 0.3879 - acc: 0.8839 - val_loss: 0.5290 - val_acc: 0.8345\n",
      "Epoch 30/70\n",
      "640/645 [============================>.] - ETA: 0s - loss: 0.3860 - acc: 0.8850WARNING:tensorflow:Can save best model only with val_accuracy available, skipping.\n",
      "645/645 [==============================] - 5s 8ms/step - loss: 0.3859 - acc: 0.8851 - val_loss: 0.5110 - val_acc: 0.8284\n",
      "Epoch 31/70\n",
      "636/645 [============================>.] - ETA: 0s - loss: 0.3837 - acc: 0.8839WARNING:tensorflow:Can save best model only with val_accuracy available, skipping.\n",
      "645/645 [==============================] - 5s 7ms/step - loss: 0.3837 - acc: 0.8845 - val_loss: 0.5232 - val_acc: 0.8208\n",
      "Epoch 32/70\n",
      "639/645 [============================>.] - ETA: 0s - loss: 0.3803 - acc: 0.8854WARNING:tensorflow:Can save best model only with val_accuracy available, skipping.\n",
      "645/645 [==============================] - 4s 7ms/step - loss: 0.3806 - acc: 0.8852 - val_loss: 0.5189 - val_acc: 0.8272\n",
      "Epoch 33/70\n",
      "637/645 [============================>.] - ETA: 0s - loss: 0.3791 - acc: 0.8866WARNING:tensorflow:Can save best model only with val_accuracy available, skipping.\n",
      "645/645 [==============================] - 4s 7ms/step - loss: 0.3787 - acc: 0.8870 - val_loss: 0.5556 - val_acc: 0.8312\n",
      "Epoch 34/70\n",
      "638/645 [============================>.] - ETA: 0s - loss: 0.3753 - acc: 0.8882WARNING:tensorflow:Can save best model only with val_accuracy available, skipping.\n",
      "645/645 [==============================] - 4s 7ms/step - loss: 0.3753 - acc: 0.8881 - val_loss: 0.5293 - val_acc: 0.8187\n",
      "Epoch 35/70\n",
      "643/645 [============================>.] - ETA: 0s - loss: 0.3740 - acc: 0.8889WARNING:tensorflow:Can save best model only with val_accuracy available, skipping.\n",
      "645/645 [==============================] - 4s 7ms/step - loss: 0.3743 - acc: 0.8887 - val_loss: 0.5315 - val_acc: 0.8299\n",
      "Epoch 36/70\n",
      "644/645 [============================>.] - ETA: 0s - loss: 0.3717 - acc: 0.8881WARNING:tensorflow:Can save best model only with val_accuracy available, skipping.\n",
      "645/645 [==============================] - 5s 7ms/step - loss: 0.3717 - acc: 0.8881 - val_loss: 0.5172 - val_acc: 0.8328\n",
      "Epoch 37/70\n",
      "641/645 [============================>.] - ETA: 0s - loss: 0.3703 - acc: 0.8902WARNING:tensorflow:Can save best model only with val_accuracy available, skipping.\n",
      "645/645 [==============================] - 5s 7ms/step - loss: 0.3701 - acc: 0.8903 - val_loss: 0.5149 - val_acc: 0.8288\n",
      "Epoch 38/70\n",
      "638/645 [============================>.] - ETA: 0s - loss: 0.3672 - acc: 0.8921WARNING:tensorflow:Can save best model only with val_accuracy available, skipping.\n",
      "645/645 [==============================] - 5s 8ms/step - loss: 0.3678 - acc: 0.8922 - val_loss: 0.5209 - val_acc: 0.8315\n",
      "Epoch 39/70\n",
      "641/645 [============================>.] - ETA: 0s - loss: 0.3641 - acc: 0.8930WARNING:tensorflow:Can save best model only with val_accuracy available, skipping.\n",
      "645/645 [==============================] - 5s 8ms/step - loss: 0.3649 - acc: 0.8926 - val_loss: 0.5282 - val_acc: 0.8338\n",
      "Epoch 40/70\n",
      "641/645 [============================>.] - ETA: 0s - loss: 0.3633 - acc: 0.8922WARNING:tensorflow:Can save best model only with val_accuracy available, skipping.\n",
      "645/645 [==============================] - 5s 7ms/step - loss: 0.3636 - acc: 0.8920 - val_loss: 0.5376 - val_acc: 0.8319\n",
      "Epoch 41/70\n",
      "638/645 [============================>.] - ETA: 0s - loss: 0.3615 - acc: 0.8940WARNING:tensorflow:Can save best model only with val_accuracy available, skipping.\n",
      "645/645 [==============================] - 5s 7ms/step - loss: 0.3616 - acc: 0.8941 - val_loss: 0.5517 - val_acc: 0.8139\n",
      "Epoch 42/70\n",
      "642/645 [============================>.] - ETA: 0s - loss: 0.3588 - acc: 0.8964WARNING:tensorflow:Can save best model only with val_accuracy available, skipping.\n",
      "645/645 [==============================] - 5s 8ms/step - loss: 0.3590 - acc: 0.8965 - val_loss: 0.5257 - val_acc: 0.8259\n",
      "Epoch 43/70\n",
      "641/645 [============================>.] - ETA: 0s - loss: 0.3576 - acc: 0.8949WARNING:tensorflow:Can save best model only with val_accuracy available, skipping.\n",
      "645/645 [==============================] - 5s 8ms/step - loss: 0.3575 - acc: 0.8951 - val_loss: 0.5281 - val_acc: 0.8315\n",
      "Epoch 44/70\n",
      "638/645 [============================>.] - ETA: 0s - loss: 0.3557 - acc: 0.8971WARNING:tensorflow:Can save best model only with val_accuracy available, skipping.\n",
      "645/645 [==============================] - 5s 8ms/step - loss: 0.3549 - acc: 0.8973 - val_loss: 0.5422 - val_acc: 0.8235\n",
      "Epoch 45/70\n",
      "643/645 [============================>.] - ETA: 0s - loss: 0.3532 - acc: 0.8965WARNING:tensorflow:Can save best model only with val_accuracy available, skipping.\n",
      "645/645 [==============================] - 5s 8ms/step - loss: 0.3530 - acc: 0.8966 - val_loss: 0.5396 - val_acc: 0.8329\n",
      "Epoch 46/70\n",
      "643/645 [============================>.] - ETA: 0s - loss: 0.3520 - acc: 0.8981WARNING:tensorflow:Can save best model only with val_accuracy available, skipping.\n",
      "645/645 [==============================] - 5s 8ms/step - loss: 0.3522 - acc: 0.8981 - val_loss: 0.5393 - val_acc: 0.8309\n",
      "Epoch 47/70\n",
      "638/645 [============================>.] - ETA: 0s - loss: 0.3490 - acc: 0.9003WARNING:tensorflow:Can save best model only with val_accuracy available, skipping.\n",
      "645/645 [==============================] - 5s 8ms/step - loss: 0.3492 - acc: 0.9001 - val_loss: 0.5504 - val_acc: 0.8163\n",
      "Epoch 48/70\n",
      "643/645 [============================>.] - ETA: 0s - loss: 0.3479 - acc: 0.8996WARNING:tensorflow:Can save best model only with val_accuracy available, skipping.\n",
      "645/645 [==============================] - 5s 8ms/step - loss: 0.3479 - acc: 0.8997 - val_loss: 0.5360 - val_acc: 0.8224\n",
      "Epoch 49/70\n",
      "637/645 [============================>.] - ETA: 0s - loss: 0.3475 - acc: 0.8997WARNING:tensorflow:Can save best model only with val_accuracy available, skipping.\n",
      "645/645 [==============================] - 5s 8ms/step - loss: 0.3466 - acc: 0.8998 - val_loss: 0.5439 - val_acc: 0.8217\n",
      "Epoch 50/70\n",
      "637/645 [============================>.] - ETA: 0s - loss: 0.3451 - acc: 0.9011WARNING:tensorflow:Can save best model only with val_accuracy available, skipping.\n",
      "645/645 [==============================] - 5s 8ms/step - loss: 0.3456 - acc: 0.9009 - val_loss: 0.5410 - val_acc: 0.8300\n",
      "Epoch 51/70\n",
      "641/645 [============================>.] - ETA: 0s - loss: 0.3419 - acc: 0.9021WARNING:tensorflow:Can save best model only with val_accuracy available, skipping.\n",
      "645/645 [==============================] - 5s 8ms/step - loss: 0.3421 - acc: 0.9021 - val_loss: 0.5376 - val_acc: 0.8281\n",
      "Epoch 52/70\n",
      "643/645 [============================>.] - ETA: 0s - loss: 0.3418 - acc: 0.9042WARNING:tensorflow:Can save best model only with val_accuracy available, skipping.\n",
      "645/645 [==============================] - 5s 8ms/step - loss: 0.3417 - acc: 0.9042 - val_loss: 0.5448 - val_acc: 0.8268\n",
      "Epoch 53/70\n",
      "638/645 [============================>.] - ETA: 0s - loss: 0.3387 - acc: 0.9027WARNING:tensorflow:Can save best model only with val_accuracy available, skipping.\n",
      "645/645 [==============================] - 5s 8ms/step - loss: 0.3386 - acc: 0.9026 - val_loss: 0.5507 - val_acc: 0.8281\n",
      "Epoch 54/70\n",
      "645/645 [==============================] - ETA: 0s - loss: 0.3375 - acc: 0.9034WARNING:tensorflow:Can save best model only with val_accuracy available, skipping.\n",
      "645/645 [==============================] - 5s 8ms/step - loss: 0.3375 - acc: 0.9034 - val_loss: 0.5432 - val_acc: 0.8242\n",
      "Epoch 55/70\n",
      "645/645 [==============================] - ETA: 0s - loss: 0.3366 - acc: 0.9047WARNING:tensorflow:Can save best model only with val_accuracy available, skipping.\n",
      "645/645 [==============================] - 5s 8ms/step - loss: 0.3366 - acc: 0.9047 - val_loss: 0.5477 - val_acc: 0.8238\n",
      "Epoch 56/70\n",
      "639/645 [============================>.] - ETA: 0s - loss: 0.3341 - acc: 0.9048WARNING:tensorflow:Can save best model only with val_accuracy available, skipping.\n"
     ]
    },
    {
     "name": "stdout",
     "output_type": "stream",
     "text": [
      "645/645 [==============================] - 5s 8ms/step - loss: 0.3343 - acc: 0.9049 - val_loss: 0.5680 - val_acc: 0.8271\n",
      "Epoch 57/70\n",
      "640/645 [============================>.] - ETA: 0s - loss: 0.3320 - acc: 0.9075WARNING:tensorflow:Can save best model only with val_accuracy available, skipping.\n",
      "645/645 [==============================] - 5s 7ms/step - loss: 0.3323 - acc: 0.9073 - val_loss: 0.6119 - val_acc: 0.7866\n",
      "Epoch 58/70\n",
      "637/645 [============================>.] - ETA: 0s - loss: 0.3311 - acc: 0.9075WARNING:tensorflow:Can save best model only with val_accuracy available, skipping.\n",
      "645/645 [==============================] - 5s 7ms/step - loss: 0.3314 - acc: 0.9078 - val_loss: 0.5723 - val_acc: 0.8089\n",
      "Epoch 59/70\n",
      "640/645 [============================>.] - ETA: 0s - loss: 0.3298 - acc: 0.9073WARNING:tensorflow:Can save best model only with val_accuracy available, skipping.\n",
      "645/645 [==============================] - 4s 7ms/step - loss: 0.3296 - acc: 0.9075 - val_loss: 0.5645 - val_acc: 0.8163\n",
      "Epoch 60/70\n",
      "642/645 [============================>.] - ETA: 0s - loss: 0.3290 - acc: 0.9069WARNING:tensorflow:Can save best model only with val_accuracy available, skipping.\n",
      "645/645 [==============================] - 5s 7ms/step - loss: 0.3288 - acc: 0.9069 - val_loss: 0.5543 - val_acc: 0.8278\n",
      "Epoch 61/70\n",
      "645/645 [==============================] - ETA: 0s - loss: 0.3266 - acc: 0.9083WARNING:tensorflow:Can save best model only with val_accuracy available, skipping.\n",
      "645/645 [==============================] - 5s 7ms/step - loss: 0.3266 - acc: 0.9083 - val_loss: 0.5676 - val_acc: 0.8239\n",
      "Epoch 62/70\n",
      "639/645 [============================>.] - ETA: 0s - loss: 0.3257 - acc: 0.9090WARNING:tensorflow:Can save best model only with val_accuracy available, skipping.\n",
      "645/645 [==============================] - 4s 7ms/step - loss: 0.3252 - acc: 0.9092 - val_loss: 0.5708 - val_acc: 0.8283\n",
      "Epoch 63/70\n",
      "637/645 [============================>.] - ETA: 0s - loss: 0.3231 - acc: 0.9100WARNING:tensorflow:Can save best model only with val_accuracy available, skipping.\n",
      "645/645 [==============================] - 5s 7ms/step - loss: 0.3232 - acc: 0.9102 - val_loss: 0.5885 - val_acc: 0.8203\n",
      "Epoch 64/70\n",
      "637/645 [============================>.] - ETA: 0s - loss: 0.3221 - acc: 0.9102WARNING:tensorflow:Can save best model only with val_accuracy available, skipping.\n",
      "645/645 [==============================] - 5s 7ms/step - loss: 0.3219 - acc: 0.9101 - val_loss: 0.6015 - val_acc: 0.7996\n",
      "Epoch 65/70\n",
      "645/645 [==============================] - ETA: 0s - loss: 0.3204 - acc: 0.9102WARNING:tensorflow:Can save best model only with val_accuracy available, skipping.\n",
      "645/645 [==============================] - 4s 7ms/step - loss: 0.3204 - acc: 0.9102 - val_loss: 0.5650 - val_acc: 0.8258\n",
      "Epoch 66/70\n",
      "637/645 [============================>.] - ETA: 0s - loss: 0.3195 - acc: 0.9113WARNING:tensorflow:Can save best model only with val_accuracy available, skipping.\n",
      "645/645 [==============================] - 5s 7ms/step - loss: 0.3193 - acc: 0.9114 - val_loss: 0.5658 - val_acc: 0.8258\n",
      "Epoch 67/70\n",
      "637/645 [============================>.] - ETA: 0s - loss: 0.3189 - acc: 0.9118WARNING:tensorflow:Can save best model only with val_accuracy available, skipping.\n",
      "645/645 [==============================] - 5s 7ms/step - loss: 0.3188 - acc: 0.9121 - val_loss: 0.5744 - val_acc: 0.8254\n",
      "Epoch 68/70\n",
      "642/645 [============================>.] - ETA: 0s - loss: 0.3168 - acc: 0.9134WARNING:tensorflow:Can save best model only with val_accuracy available, skipping.\n",
      "645/645 [==============================] - 4s 7ms/step - loss: 0.3166 - acc: 0.9134 - val_loss: 0.5890 - val_acc: 0.8299\n",
      "Epoch 69/70\n",
      "641/645 [============================>.] - ETA: 0s - loss: 0.3147 - acc: 0.9134WARNING:tensorflow:Can save best model only with val_accuracy available, skipping.\n",
      "645/645 [==============================] - 5s 7ms/step - loss: 0.3150 - acc: 0.9133 - val_loss: 0.5703 - val_acc: 0.8217\n",
      "Epoch 70/70\n",
      "645/645 [==============================] - ETA: 0s - loss: 0.3148 - acc: 0.9138WARNING:tensorflow:Can save best model only with val_accuracy available, skipping.\n",
      "645/645 [==============================] - 4s 7ms/step - loss: 0.3148 - acc: 0.9138 - val_loss: 0.5765 - val_acc: 0.8168\n"
     ]
    }
   ],
   "source": [
    "model3 = Sequential()\n",
    "model3.add(layers.Embedding(max_words, 40, input_length=max_len))\n",
    "model3.add(layers.Conv1D(20, 6, activation='relu',kernel_regularizer=regularizers.l1_l2(l1=2e-3, l2=2e-3),bias_regularizer=regularizers.l2(2e-3)))\n",
    "model3.add(layers.MaxPooling1D(5))\n",
    "model3.add(layers.Conv1D(20, 6, activation='relu',kernel_regularizer=regularizers.l1_l2(l1=2e-3, l2=2e-3),bias_regularizer=regularizers.l2(2e-3)))\n",
    "model3.add(layers.GlobalMaxPooling1D())\n",
    "model3.add(layers.Dense(3,activation='softmax'))\n",
    "model3.compile(optimizer='rmsprop',loss='categorical_crossentropy',metrics=['acc'])\n",
    "checkpoint3 = ModelCheckpoint(\"best_model3.hdf5\", monitor='val_accuracy', verbose=1,save_best_only=True, mode='auto', period=1,save_weights_only=False)\n",
    "history = model3.fit(X_train, y_train, epochs=70,validation_data=(X_test, y_test),callbacks=[checkpoint3])"
   ]
  },
  {
   "cell_type": "code",
   "execution_count": 85,
   "metadata": {},
   "outputs": [],
   "source": [
    "best_model = keras.models.load_model(\"best_model2.hdf5\")"
   ]
  },
  {
   "cell_type": "code",
   "execution_count": 86,
   "metadata": {},
   "outputs": [
    {
     "name": "stdout",
     "output_type": "stream",
     "text": [
      "215/215 - 3s - loss: 0.4366 - accuracy: 0.8460 - 3s/epoch - 13ms/step\n",
      "Model accuracy:  0.8460195064544678\n"
     ]
    }
   ],
   "source": [
    "test_loss, test_acc = best_model.evaluate(X_test, y_test, verbose=2)\n",
    "print('Model accuracy: ',test_acc)"
   ]
  },
  {
   "cell_type": "code",
   "execution_count": 87,
   "metadata": {},
   "outputs": [
    {
     "name": "stdout",
     "output_type": "stream",
     "text": [
      "215/215 [==============================] - 3s 11ms/step\n"
     ]
    }
   ],
   "source": [
    "predictions = best_model.predict(X_test)"
   ]
  },
  {
   "cell_type": "code",
   "execution_count": 88,
   "metadata": {},
   "outputs": [],
   "source": [
    "from sklearn.metrics import confusion_matrix\n",
    "matrix = confusion_matrix(y_test.argmax(axis=1), np.around(predictions, decimals=0).argmax(axis=1))"
   ]
  },
  {
   "cell_type": "code",
   "execution_count": 89,
   "metadata": {},
   "outputs": [
    {
     "data": {
      "text/plain": [
       "<AxesSubplot:>"
      ]
     },
     "execution_count": 89,
     "metadata": {},
     "output_type": "execute_result"
    },
    {
     "data": {
      "image/png": "[encoded data removed]",
      "text/plain": [
       "<Figure size 1080x1080 with 2 Axes>"
      ]
     },
     "metadata": {
      "needs_background": "light"
     },
     "output_type": "display_data"
    }
   ],
   "source": [
    "conf_matrix = pd.DataFrame(matrix, index = ['Neutral','Negative','Positive'],columns = ['Neutral','Negative','Positive'])\n",
    "conf_matrix = conf_matrix.astype('float') / conf_matrix.sum(axis=1)[:, np.newaxis]\n",
    "plt.figure(figsize = (15,15))\n",
    "sns.heatmap(conf_matrix, annot=True, annot_kws={\"size\": 15})"
   ]
  },
  {
   "cell_type": "code",
   "execution_count": 90,
   "metadata": {},
   "outputs": [],
   "source": [
    "sentiment = ['Neutral','Negative','Positive']"
   ]
  },
  {
   "cell_type": "code",
   "execution_count": 91,
   "metadata": {},
   "outputs": [
    {
     "name": "stdout",
     "output_type": "stream",
     "text": [
      "1/1 [==============================] - 0s 19ms/step\n"
     ]
    },
    {
     "data": {
      "text/plain": [
       "'Negative'"
      ]
     },
     "execution_count": 91,
     "metadata": {},
     "output_type": "execute_result"
    }
   ],
   "source": [
    "sequence = tokenizer.texts_to_sequences(['this experience has been the worst , want my money back'])\n",
    "test = pad_sequences(sequence, maxlen=max_len)\n",
    "sentiment[np.around(best_model.predict(test), decimals=0).argmax(axis=1)[0]]"
   ]
  },
  {
   "cell_type": "code",
   "execution_count": 92,
   "metadata": {},
   "outputs": [
    {
     "name": "stdout",
     "output_type": "stream",
     "text": [
      "1/1 [==============================] - 0s 21ms/step\n"
     ]
    },
    {
     "data": {
      "text/plain": [
       "'Positive'"
      ]
     },
     "execution_count": 92,
     "metadata": {},
     "output_type": "execute_result"
    }
   ],
   "source": [
    "sequence = tokenizer.texts_to_sequences(['this data science article is the best ever'])\n",
    "test = pad_sequences(sequence, maxlen=max_len)\n",
    "sentiment[np.around(best_model.predict(test), decimals=0).argmax(axis=1)[0]]"
   ]
  },
  {
   "cell_type": "code",
   "execution_count": 93,
   "metadata": {},
   "outputs": [
    {
     "name": "stdout",
     "output_type": "stream",
     "text": [
      "1/1 [==============================] - 0s 20ms/step\n"
     ]
    },
    {
     "data": {
      "text/plain": [
       "'Negative'"
      ]
     },
     "execution_count": 93,
     "metadata": {},
     "output_type": "execute_result"
    }
   ],
   "source": [
    "sequence = tokenizer.texts_to_sequences(['i hate youtube ads, they are annoying'])\n",
    "test = pad_sequences(sequence, maxlen=max_len)\n",
    "sentiment[np.around(best_model.predict(test), decimals=0).argmax(axis=1)[0]]"
   ]
  },
  {
   "cell_type": "code",
   "execution_count": 94,
   "metadata": {},
   "outputs": [
    {
     "name": "stdout",
     "output_type": "stream",
     "text": [
      "1/1 [==============================] - 0s 22ms/step\n"
     ]
    },
    {
     "data": {
      "text/plain": [
       "'Positive'"
      ]
     },
     "execution_count": 94,
     "metadata": {},
     "output_type": "execute_result"
    }
   ],
   "source": [
    "sequence = tokenizer.texts_to_sequences(['i really loved how the technician helped me with the issue that i had'])\n",
    "test = pad_sequences(sequence, maxlen=max_len)\n",
    "sentiment[np.around(best_model.predict(test), decimals=0).argmax(axis=1)[0]]"
   ]
  },
  {
   "cell_type": "code",
   "execution_count": 95,
   "metadata": {},
   "outputs": [
    {
     "name": "stdout",
     "output_type": "stream",
     "text": [
      "Model saved\n",
      "Tokenizer saved\n"
     ]
    }
   ],
   "source": [
    "model_json = best_model.to_json()\n",
    "with open(\"model.json\", \"w\") as json_file:\n",
    "    json_file.write(model_json)\n",
    "best_model.save_weights(\"model-weights.h5\")\n",
    "print(\"Model saved\")\n",
    "\n",
    "\n",
    "with open('tokenizer.pickle', 'wb') as handle:\n",
    "    pickle.dump(tokenizer, handle, protocol=pickle.HIGHEST_PROTOCOL)\n",
    "print('Tokenizer saved')"
   ]
  }
 ],
 "metadata": {
  "kernelspec": {
   "display_name": "Python 3 (ipykernel)",
   "language": "python",
   "name": "python3"
  },
  "language_info": {
   "codemirror_mode": {
    "name": "ipython",
    "version": 3
   },
   "file_extension": ".py",
   "mimetype": "text/x-python",
   "name": "python",
   "nbconvert_exporter": "python",
   "pygments_lexer": "ipython3",
   "version": "3.9.7"
  },
  "nteract": {
   "version": "0.28.0"
  },
  "vscode": {
   "interpreter": {
    "hash": "40d3a090f54c6569ab1632332b64b2c03c39dcf918b08424e98f38b5ae0af88f"
   }
  }
 },
 "nbformat": 4,
 "nbformat_minor": 4
}
