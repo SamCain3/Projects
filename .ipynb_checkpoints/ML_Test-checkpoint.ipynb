{
 "cells": [
  {
   "cell_type": "code",
   "execution_count": 4,
   "metadata": {},
   "outputs": [
    {
     "name": "stdout",
     "output_type": "stream",
     "text": [
      "Python: 3.9.7 (default, Sep 16 2021, 16:59:28) [MSC v.1916 64 bit (AMD64)]\n",
      "scipy: 1.7.1\n",
      "numpy: 1.21.3\n",
      "matplotlib: 3.4.3\n",
      "pandas: 1.3.4\n",
      "sklearn: 0.24.2\n"
     ]
    }
   ],
   "source": [
    "# Import required libraries and dependencies\n",
    "import sys\n",
    "print('Python: {}'.format(sys.version))\n",
    "import scipy as sp\n",
    "print('scipy: {}'.format(scipy.__version__))\n",
    "import numpy as np\n",
    "print('numpy: {}'.format(numpy.__version__))\n",
    "import matplotlib as plt\n",
    "print('matplotlib: {}'.format(matplotlib.__version__))\n",
    "import pandas as pd\n",
    "print('pandas: {}'.format(pandas.__version__))\n",
    "import sklearn\n",
    "print('sklearn: {}'.format(sklearn.__version__))"
   ]
  },
  {
   "cell_type": "code",
   "execution_count": null,
   "metadata": {},
   "outputs": [],
   "source": []
  }
 ],
 "metadata": {
  "kernelspec": {
   "display_name": "Python 3 (ipykernel)",
   "language": "python",
   "name": "python3"
  },
  "language_info": {
   "codemirror_mode": {
    "name": "ipython",
    "version": 3
   },
   "file_extension": ".py",
   "mimetype": "text/x-python",
   "name": "python",
   "nbconvert_exporter": "python",
   "pygments_lexer": "ipython3",
   "version": "3.9.7"
  },
  "nteract": {
   "version": "0.28.0"
  },
  "vscode": {
   "interpreter": {
    "hash": "40d3a090f54c6569ab1632332b64b2c03c39dcf918b08424e98f38b5ae0af88f"
   }
  }
 },
 "nbformat": 4,
 "nbformat_minor": 4
}
